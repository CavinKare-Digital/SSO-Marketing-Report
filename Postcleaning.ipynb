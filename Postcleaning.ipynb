{
 "cells": [
  {
   "cell_type": "markdown",
   "metadata": {},
   "source": [
    "# Postcleaning code"
   ]
  },
  {
   "cell_type": "markdown",
   "metadata": {},
   "source": [
    "To be run once Business filled the required missing data. \n",
    "\n",
    "We will be using inner join and merge only the PC data leaving the rest of the data. One8, Coty brands are not required for analysis."
   ]
  },
  {
   "cell_type": "code",
   "execution_count": 84,
   "metadata": {},
   "outputs": [],
   "source": [
    "import pandas as pd\n",
    "import numpy as np"
   ]
  },
  {
   "cell_type": "code",
   "execution_count": 85,
   "metadata": {},
   "outputs": [],
   "source": [
    "from datetime import date"
   ]
  },
  {
   "cell_type": "code",
   "execution_count": 86,
   "metadata": {},
   "outputs": [],
   "source": [
    "import datetime"
   ]
  },
  {
   "cell_type": "code",
   "execution_count": 87,
   "metadata": {},
   "outputs": [],
   "source": [
    "pd.options.mode.chained_assignment = None #for not showing warning message \n",
    "pd.options.display.float_format = '{:,.7f}'.format #for setting thhe float format to this notebook"
   ]
  },
  {
   "cell_type": "code",
   "execution_count": 88,
   "metadata": {},
   "outputs": [],
   "source": [
    "# jccycle                   =      pd.read_excel(\"D:\\Analytics\\Marketing Report\\Journey Cycle\\Master Journey Cycle.xlsx\")\n",
    "# product_hierarchy         =      pd.read_excel(\"D:\\Analytics\\Marketing Report\\FY 19-20\\Master Data\\Product Hierarchy.xlsx\",\n",
    "#                                                sheet_name= \"Material Master Data\")\n",
    "# static_category_lookup    =      pd.read_excel(\"D:\\Analytics\\Marketing Report\\FY 19-20\\Master Data\\Static_Category_Lookup.xlsx\")\n",
    "# statename_lookup          =      pd.read_excel(\"D:\\Analytics\\Marketing Report\\FY 19-20\\Master Data\\Statename.xlsx\")"
   ]
  },
  {
   "cell_type": "code",
   "execution_count": 89,
   "metadata": {},
   "outputs": [],
   "source": [
    "# data9_keyac = pd.read_excel(\"D:\\Analytics\\Marketing Report\\FY 19-20\\JC 09\\JC09-Key Ac's.xlsb\",engine='pyxlsb')\n",
    "# data9_nonsouth = pd.read_excel(\"D:\\Analytics\\Marketing Report\\FY 19-20\\JC 09\\JC09-Non South.xlsb\",engine = 'pyxlsb')\n",
    "# data9_south = pd.read_excel(\"D:\\Analytics\\Marketing Report\\FY 19-20\\JC 09\\JC09-South.xlsb\",engine = 'pyxlsb')"
   ]
  },
  {
   "cell_type": "code",
   "execution_count": 90,
   "metadata": {},
   "outputs": [],
   "source": [
    "data9 =  data9_keyac.append(data9_nonsouth)\n",
    "data9 = data9.append(data9_south)"
   ]
  },
  {
   "cell_type": "code",
   "execution_count": 91,
   "metadata": {},
   "outputs": [],
   "source": [
    "data10 = data9"
   ]
  },
  {
   "cell_type": "code",
   "execution_count": 92,
   "metadata": {},
   "outputs": [
    {
     "data": {
      "text/html": [
       "<div>\n",
       "<style scoped>\n",
       "    .dataframe tbody tr th:only-of-type {\n",
       "        vertical-align: middle;\n",
       "    }\n",
       "\n",
       "    .dataframe tbody tr th {\n",
       "        vertical-align: top;\n",
       "    }\n",
       "\n",
       "    .dataframe thead th {\n",
       "        text-align: right;\n",
       "    }\n",
       "</style>\n",
       "<table border=\"1\" class=\"dataframe\">\n",
       "  <thead>\n",
       "    <tr style=\"text-align: right;\">\n",
       "      <th></th>\n",
       "      <th>index</th>\n",
       "      <th>0</th>\n",
       "    </tr>\n",
       "  </thead>\n",
       "  <tbody>\n",
       "    <tr>\n",
       "      <th>2</th>\n",
       "      <td>DistName</td>\n",
       "      <td>8052</td>\n",
       "    </tr>\n",
       "    <tr>\n",
       "      <th>3</th>\n",
       "      <td>DistType</td>\n",
       "      <td>8052</td>\n",
       "    </tr>\n",
       "    <tr>\n",
       "      <th>4</th>\n",
       "      <td>Rtrid</td>\n",
       "      <td>8052</td>\n",
       "    </tr>\n",
       "    <tr>\n",
       "      <th>5</th>\n",
       "      <td>RtrCode</td>\n",
       "      <td>11094</td>\n",
       "    </tr>\n",
       "    <tr>\n",
       "      <th>6</th>\n",
       "      <td>RtrName</td>\n",
       "      <td>11094</td>\n",
       "    </tr>\n",
       "    <tr>\n",
       "      <th>7</th>\n",
       "      <td>RtrGroupCde</td>\n",
       "      <td>11094</td>\n",
       "    </tr>\n",
       "    <tr>\n",
       "      <th>9</th>\n",
       "      <td>BillNo</td>\n",
       "      <td>8053</td>\n",
       "    </tr>\n",
       "    <tr>\n",
       "      <th>10</th>\n",
       "      <td>InvDate</td>\n",
       "      <td>8052</td>\n",
       "    </tr>\n",
       "    <tr>\n",
       "      <th>13</th>\n",
       "      <td>PrdName</td>\n",
       "      <td>8052</td>\n",
       "    </tr>\n",
       "    <tr>\n",
       "      <th>16</th>\n",
       "      <td>NetAmt</td>\n",
       "      <td>8052</td>\n",
       "    </tr>\n",
       "    <tr>\n",
       "      <th>17</th>\n",
       "      <td>BaseValue</td>\n",
       "      <td>8052</td>\n",
       "    </tr>\n",
       "  </tbody>\n",
       "</table>\n",
       "</div>"
      ],
      "text/plain": [
       "          index      0\n",
       "2      DistName   8052\n",
       "3      DistType   8052\n",
       "4         Rtrid   8052\n",
       "5       RtrCode  11094\n",
       "6       RtrName  11094\n",
       "7   RtrGroupCde  11094\n",
       "9        BillNo   8053\n",
       "10      InvDate   8052\n",
       "13      PrdName   8052\n",
       "16       NetAmt   8052\n",
       "17    BaseValue   8052"
      ]
     },
     "execution_count": 92,
     "metadata": {},
     "output_type": "execute_result"
    }
   ],
   "source": [
    "temp4 = data9.isnull().sum().to_frame().reset_index()\n",
    "temp4[temp4[0] != 0]"
   ]
  },
  {
   "cell_type": "code",
   "execution_count": 93,
   "metadata": {},
   "outputs": [],
   "source": [
    "data9.drop([\"PrdName\"],axis = 1,inplace = True)\n",
    "data9.drop([\"BaseValue\"],axis = 1,inplace = True)"
   ]
  },
  {
   "cell_type": "code",
   "execution_count": 94,
   "metadata": {},
   "outputs": [
    {
     "data": {
      "text/plain": [
       "Distcode              MT0600032000290003200029\n",
       "RS CODE                                3200029\n",
       "DistName         VENKATA SAI SALES CORPORATION\n",
       "DistType                   Key A/c Distributor\n",
       "Rtrid                               48.0000000\n",
       "RtrCode                                RET0048\n",
       "RtrName        AVENUE SUPERMARTS LTD RAMANTPUR\n",
       "RtrGroupCde             AVENUE SUPER MARTS LTD\n",
       "RET GRP                           Modern Trade\n",
       "BillNo                              BIL1900317\n",
       "InvDate                         43,776.0000000\n",
       "PERIOD                                    WK01\n",
       "PrdCode                         FCAM0050NAT03R\n",
       "BRAND CAT                    FAIREVER  Natural\n",
       "TotQty                                      96\n",
       "NetAmt                           6,719.7700000\n",
       "In Lakhs                             0.0598082\n",
       "REGION                               Keys-Ac/s\n",
       "ZONE                                 Keys-Ac/s\n",
       "Name: 1, dtype: object"
      ]
     },
     "execution_count": 94,
     "metadata": {},
     "output_type": "execute_result"
    }
   ],
   "source": [
    "data9.iloc[1]"
   ]
  },
  {
   "cell_type": "code",
   "execution_count": 95,
   "metadata": {},
   "outputs": [
    {
     "name": "stdout",
     "output_type": "stream",
     "text": [
      "<class 'pandas.core.frame.DataFrame'>\n",
      "Int64Index: 1126587 entries, 0 to 740834\n",
      "Data columns (total 19 columns):\n",
      " #   Column       Non-Null Count    Dtype  \n",
      "---  ------       --------------    -----  \n",
      " 0   Distcode     1126587 non-null  object \n",
      " 1   RS CODE      1126587 non-null  int64  \n",
      " 2   DistName     1118535 non-null  object \n",
      " 3   DistType     1118535 non-null  object \n",
      " 4   Rtrid        1118535 non-null  float64\n",
      " 5   RtrCode      1115493 non-null  object \n",
      " 6   RtrName      1115493 non-null  object \n",
      " 7   RtrGroupCde  1115493 non-null  object \n",
      " 8   RET GRP      1126587 non-null  object \n",
      " 9   BillNo       1118534 non-null  object \n",
      " 10  InvDate      1118535 non-null  float64\n",
      " 11  PERIOD       1126587 non-null  object \n",
      " 12  PrdCode      1126587 non-null  object \n",
      " 13  BRAND CAT    1126587 non-null  object \n",
      " 14  TotQty       1126587 non-null  int64  \n",
      " 15  NetAmt       1118535 non-null  float64\n",
      " 16  In Lakhs     1126587 non-null  float64\n",
      " 17  REGION       1126587 non-null  object \n",
      " 18  ZONE         1126587 non-null  object \n",
      "dtypes: float64(4), int64(2), object(13)\n",
      "memory usage: 171.9+ MB\n"
     ]
    }
   ],
   "source": [
    "data9.info()"
   ]
  },
  {
   "cell_type": "code",
   "execution_count": 96,
   "metadata": {},
   "outputs": [
    {
     "data": {
      "text/plain": [
       "Index(['Distcode', 'RS CODE', 'DistName', 'DistType', 'Rtrid', 'RtrCode',\n",
       "       'RtrName', 'RtrGroupCde', 'RET GRP', 'BillNo', 'InvDate', 'PERIOD',\n",
       "       'PrdCode', 'BRAND CAT', 'TotQty', 'NetAmt', 'In Lakhs', 'REGION',\n",
       "       'ZONE'],\n",
       "      dtype='object')"
      ]
     },
     "execution_count": 96,
     "metadata": {},
     "output_type": "execute_result"
    }
   ],
   "source": [
    "data9.columns"
   ]
  },
  {
   "cell_type": "code",
   "execution_count": 97,
   "metadata": {},
   "outputs": [
    {
     "data": {
      "text/plain": [
       "(1126587, 19)"
      ]
     },
     "execution_count": 97,
     "metadata": {},
     "output_type": "execute_result"
    }
   ],
   "source": [
    "data9.shape"
   ]
  },
  {
   "cell_type": "code",
   "execution_count": 98,
   "metadata": {},
   "outputs": [],
   "source": [
    "data9.columns       = map(str.lower, data9.columns)"
   ]
  },
  {
   "cell_type": "code",
   "execution_count": 99,
   "metadata": {},
   "outputs": [],
   "source": [
    "data9 = data9.rename(columns = {\"distname\"    : \"cusname\",\n",
    "                                \"disttype\"    : \"cusgroname\",\n",
    "                                \"rtrgroupcde\" : \"category\",\n",
    "                                \"brand pack\"  : \"brandpack\",\n",
    "                                \"in lakhs\"    : \"basevalue\"\n",
    "                               })"
   ]
  },
  {
   "cell_type": "code",
   "execution_count": 100,
   "metadata": {},
   "outputs": [],
   "source": [
    "data9[[\"rtrcode\",\"ret grp\",\"category\",\"zone\"]] = data9[[\"rtrcode\",\"ret grp\",\"category\",\"zone\"]].applymap(lambda s:(s.upper() if type(s)==str else s))"
   ]
  },
  {
   "cell_type": "code",
   "execution_count": 101,
   "metadata": {},
   "outputs": [],
   "source": [
    "data9 = pd.merge(data9, product_hierarchy, \n",
    "                 left_on = 'prdcode', \n",
    "                 right_on = 'PrdCode',\n",
    "                 how='inner')\n",
    "data9.drop(columns  = [\"PrdCode\"] ,axis = 1,inplace = True)"
   ]
  },
  {
   "cell_type": "code",
   "execution_count": 102,
   "metadata": {},
   "outputs": [],
   "source": [
    "data9.columns       = map(str.lower, data9.columns)"
   ]
  },
  {
   "cell_type": "code",
   "execution_count": 103,
   "metadata": {},
   "outputs": [
    {
     "data": {
      "text/plain": [
       "array(['E-COMM', 'MODERN TRADE', 'PC-KIRANA/GENERAL STORES'], dtype=object)"
      ]
     },
     "execution_count": 103,
     "metadata": {},
     "output_type": "execute_result"
    }
   ],
   "source": [
    "data9[data9[\"category\"].isna()][\"ret grp\"].unique()"
   ]
  },
  {
   "cell_type": "code",
   "execution_count": 104,
   "metadata": {},
   "outputs": [],
   "source": [
    "data9[\"category\"]   = data9[\"category\"].fillna(value = data9[\"ret grp\"])"
   ]
  },
  {
   "cell_type": "code",
   "execution_count": 105,
   "metadata": {},
   "outputs": [],
   "source": [
    "category_check = pd.merge(data9, static_category_lookup,how='left',left_on = \"category\",right_on=\"Old_Category\")"
   ]
  },
  {
   "cell_type": "code",
   "execution_count": 106,
   "metadata": {},
   "outputs": [
    {
     "data": {
      "text/html": [
       "<div>\n",
       "<style scoped>\n",
       "    .dataframe tbody tr th:only-of-type {\n",
       "        vertical-align: middle;\n",
       "    }\n",
       "\n",
       "    .dataframe tbody tr th {\n",
       "        vertical-align: top;\n",
       "    }\n",
       "\n",
       "    .dataframe thead th {\n",
       "        text-align: right;\n",
       "    }\n",
       "</style>\n",
       "<table border=\"1\" class=\"dataframe\">\n",
       "  <thead>\n",
       "    <tr style=\"text-align: right;\">\n",
       "      <th></th>\n",
       "      <th>ret grp</th>\n",
       "      <th>Old_Category</th>\n",
       "    </tr>\n",
       "  </thead>\n",
       "  <tbody>\n",
       "  </tbody>\n",
       "</table>\n",
       "</div>"
      ],
      "text/plain": [
       "Empty DataFrame\n",
       "Columns: [ret grp, Old_Category]\n",
       "Index: []"
      ]
     },
     "execution_count": 106,
     "metadata": {},
     "output_type": "execute_result"
    }
   ],
   "source": [
    "category_check[category_check[\"Old_Category\"].isna()][[\"ret grp\",\"Old_Category\"]]"
   ]
  },
  {
   "cell_type": "code",
   "execution_count": 107,
   "metadata": {},
   "outputs": [
    {
     "data": {
      "text/plain": [
       "Series([], Name: prdcode, dtype: object)"
      ]
     },
     "execution_count": 107,
     "metadata": {},
     "output_type": "execute_result"
    }
   ],
   "source": [
    "data9[data9[\"brand pack\"].isna()][\"prdcode\"]"
   ]
  },
  {
   "cell_type": "code",
   "execution_count": 108,
   "metadata": {},
   "outputs": [
    {
     "data": {
      "text/plain": [
       "array(['E-COMM', 'MODERN TRADE', 'PC-KIRANA/GENERAL STORES'], dtype=object)"
      ]
     },
     "execution_count": 108,
     "metadata": {},
     "output_type": "execute_result"
    }
   ],
   "source": [
    "data9[data9[\"cusname\"].isna()][\"ret grp\"].unique()"
   ]
  },
  {
   "cell_type": "code",
   "execution_count": 109,
   "metadata": {},
   "outputs": [],
   "source": [
    "data9.loc[data9[\"ret grp\"] == \"PC-KIRANA/GENERAL STORES\", \"cusname\"]    = data9.loc[data9[\"ret grp\"] == \"PC-KIRANA/GENERAL STORES\", \"cusname\"].fillna(\"Kirana\")\n",
    "data9.loc[data9[\"ret grp\"] == \"PC-KIRANA/GENERAL STORES\", \"cusgroname\"] = data9.loc[data9[\"ret grp\"] == \"PC-KIRANA/GENERAL STORES\", \"cusgroname\"].fillna(\"Kirana\")\n",
    "data9.loc[data9[\"ret grp\"] == \"PC-KIRANA/GENERAL STORES\", \"rtrid\"]      = data9.loc[data9[\"ret grp\"] == \"PC-KIRANA/GENERAL STORES\", \"rtrid\"].fillna(\"Kirana\")\n",
    "data9.loc[data9[\"ret grp\"] == \"PC-KIRANA/GENERAL STORES\", \"rtrcode\"]    = data9.loc[data9[\"ret grp\"] == \"PC-KIRANA/GENERAL STORES\", \"rtrcode\"].fillna(\"Kirana\")\n",
    "data9.loc[data9[\"ret grp\"] == \"PC-KIRANA/GENERAL STORES\", \"rtrname\"]    = data9.loc[data9[\"ret grp\"] == \"PC-KIRANA/GENERAL STORES\", \"rtrname\"].fillna(\"Kirana\")\n",
    "data9.loc[data9[\"ret grp\"] == \"MODERN TRADE\", \"cusname\"]                = data9.loc[data9[\"ret grp\"] == \"MODERN TRADE\", \"cusname\"].fillna(\"Modern Trade\")\n",
    "data9.loc[data9[\"ret grp\"] == \"MODERN TRADE\", \"cusgroname\"]             = data9.loc[data9[\"ret grp\"] == \"MODERN TRADE\", \"cusgroname\"].fillna(\"Modern Trade\")\n",
    "data9.loc[data9[\"ret grp\"] == \"MODERN TRADE\", \"rtrid\"]                  = data9.loc[data9[\"ret grp\"] == \"MODERN TRADE\", \"rtrid\"].fillna(\"Modern Trade\")\n",
    "data9.loc[data9[\"ret grp\"] == \"MODERN TRADE\", \"rtrcode\"]                = data9.loc[data9[\"ret grp\"] == \"MODERN TRADE\", \"rtrcode\"].fillna(\"Modern Trade\")\n",
    "data9.loc[data9[\"ret grp\"] == \"MODERN TRADE\", \"rtrname\"]                = data9.loc[data9[\"ret grp\"] == \"MODERN TRADE\", \"rtrname\"].fillna(\"Modern Trade\")\n",
    "data9.loc[data9[\"ret grp\"] == \"E-COMM\", \"cusname\"]                      = data9.loc[data9[\"ret grp\"] == \"E-COMM\", \"cusname\"].fillna(\"E-Commerce\")\n",
    "data9.loc[data9[\"ret grp\"] == \"E-COMM\", \"cusgroname\"]                   = data9.loc[data9[\"ret grp\"] == \"E-COMM\", \"cusgroname\"].fillna(\"E-Commerce\")\n",
    "data9.loc[data9[\"ret grp\"] == \"E-COMM\", \"rtrid\"]                        = data9.loc[data9[\"ret grp\"] == \"E-COMM\", \"rtrid\"].fillna(\"E-Commerce\")\n",
    "data9.loc[data9[\"ret grp\"] == \"E-COMM\", \"rtrcode\"]                      = data9.loc[data9[\"ret grp\"] == \"E-COMM\", \"rtrcode\"].fillna(\"E-Commerce\")\n",
    "data9.loc[data9[\"ret grp\"] == \"E-COMM\", \"rtrname\"]                      = data9.loc[data9[\"ret grp\"] == \"E-COMM\", \"rtrname\"].fillna(\"E-Commerce\")\n"
   ]
  },
  {
   "cell_type": "code",
   "execution_count": 110,
   "metadata": {
    "scrolled": true
   },
   "outputs": [],
   "source": [
    "data9[\"billno\"] = data9[\"billno\"].fillna(value = 0)\n",
    "data9[\"netamt\"] = data9[\"netamt\"].fillna(value = 0)"
   ]
  },
  {
   "cell_type": "code",
   "execution_count": 111,
   "metadata": {},
   "outputs": [],
   "source": [
    "data9[\"invdate\"] = data9[\"invdate\"].fillna(data9[\"invdate\"].mode()[0])"
   ]
  },
  {
   "cell_type": "code",
   "execution_count": 112,
   "metadata": {},
   "outputs": [],
   "source": [
    "data9[\"invdate\"] = data9[\"invdate\"].astype(\"int\")"
   ]
  },
  {
   "cell_type": "code",
   "execution_count": 113,
   "metadata": {},
   "outputs": [
    {
     "data": {
      "text/plain": [
       "array([43776, 43777, 43778, 43780, 43781, 43782, 43783, 43784, 43785,\n",
       "       43786, 43787, 43788, 43789, 43790, 43791, 43792, 43794, 43795,\n",
       "       43796, 43797, 43798, 43799, 43800, 43801, 43802, 43803, 43793,\n",
       "       43779])"
      ]
     },
     "execution_count": 113,
     "metadata": {},
     "output_type": "execute_result"
    }
   ],
   "source": [
    "data9[\"invdate\"].unique()"
   ]
  },
  {
   "cell_type": "code",
   "execution_count": 114,
   "metadata": {},
   "outputs": [],
   "source": [
    "from datetime import datetime, timedelta\n",
    "\n",
    "def xldate_to_datetime(xldate):\n",
    "   tempDate = datetime(1900, 1, 1)\n",
    "   deltaDays =timedelta(days=int(xldate)-2)\n",
    "   TheTime = (tempDate + deltaDays )\n",
    "   return TheTime.strftime(\"%Y/%m/%d\")"
   ]
  },
  {
   "cell_type": "code",
   "execution_count": 115,
   "metadata": {},
   "outputs": [],
   "source": [
    "data9[\"invdate\"] = data9[\"invdate\"].apply(lambda x: xldate_to_datetime(x))"
   ]
  },
  {
   "cell_type": "code",
   "execution_count": 116,
   "metadata": {},
   "outputs": [
    {
     "data": {
      "text/plain": [
       "array(['2019/11/07', '2019/11/08', '2019/11/09', '2019/11/11',\n",
       "       '2019/11/12', '2019/11/13', '2019/11/14', '2019/11/15',\n",
       "       '2019/11/16', '2019/11/17', '2019/11/18', '2019/11/19',\n",
       "       '2019/11/20', '2019/11/21', '2019/11/22', '2019/11/23',\n",
       "       '2019/11/25', '2019/11/26', '2019/11/27', '2019/11/28',\n",
       "       '2019/11/29', '2019/11/30', '2019/12/01', '2019/12/02',\n",
       "       '2019/12/03', '2019/12/04', '2019/11/24', '2019/11/10'],\n",
       "      dtype=object)"
      ]
     },
     "execution_count": 116,
     "metadata": {},
     "output_type": "execute_result"
    }
   ],
   "source": [
    "data9[\"invdate\"].unique()"
   ]
  },
  {
   "cell_type": "code",
   "execution_count": 117,
   "metadata": {},
   "outputs": [],
   "source": [
    "data9[\"invdate\"] = pd.to_datetime(data9[\"invdate\"])"
   ]
  },
  {
   "cell_type": "code",
   "execution_count": 118,
   "metadata": {},
   "outputs": [],
   "source": [
    "data9               = pd.merge(data9, jccycle, left_on = \"invdate\", right_on = \"Wk_Start_Date\")\n",
    "data9.drop(columns  = [\"Wk_Start_Date\"] ,axis = 1,inplace = True)"
   ]
  },
  {
   "cell_type": "code",
   "execution_count": 119,
   "metadata": {},
   "outputs": [
    {
     "data": {
      "text/plain": [
       "Index(['distcode', 'rs code', 'cusname', 'cusgroname', 'rtrid', 'rtrcode',\n",
       "       'rtrname', 'category', 'ret grp', 'billno', 'invdate', 'period',\n",
       "       'prdcode', 'brand cat', 'totqty', 'netamt', 'basevalue', 'region',\n",
       "       'zone', 'prdname', 'brand', 'retail brand', 'brand pack', 'div', 'Jc',\n",
       "       'Week'],\n",
       "      dtype='object')"
      ]
     },
     "execution_count": 119,
     "metadata": {},
     "output_type": "execute_result"
    }
   ],
   "source": [
    "data9.columns"
   ]
  },
  {
   "cell_type": "code",
   "execution_count": 120,
   "metadata": {},
   "outputs": [],
   "source": [
    "data9               = pd.merge(data9, statename_lookup, on = \"zone\", how = \"left\" )"
   ]
  },
  {
   "cell_type": "code",
   "execution_count": 121,
   "metadata": {},
   "outputs": [],
   "source": [
    "data9 = data9.rename(columns = {\"distname\"    : \"cusname\",\n",
    "                                \"disttype\"    : \"cusgroname\",\n",
    "                                \"rtrgroupcde\" : \"category\",\n",
    "                                \"brand pack\"  : \"brandpack\",\n",
    "                                \"in lakhs\"    : \"basevalue\"\n",
    "                               })"
   ]
  },
  {
   "cell_type": "code",
   "execution_count": 128,
   "metadata": {},
   "outputs": [],
   "source": [
    "data = data9[[\"statename\",\"distcode\",\"cusname\",\"cusgroname\",\"rtrid\",\n",
    "               \"rtrcode\",\"rtrname\",\"invdate\",\"brand\",\"brandpack\",\n",
    "               \"totqty\",\"netamt\",\"basevalue\",\"category\",\"prdcode\",\n",
    "               \"div\",\"Jc\",\"Week\"]]"
   ]
  },
  {
   "cell_type": "code",
   "execution_count": 129,
   "metadata": {},
   "outputs": [],
   "source": [
    "test = data.head(1)"
   ]
  },
  {
   "cell_type": "code",
   "execution_count": 130,
   "metadata": {},
   "outputs": [
    {
     "name": "stdout",
     "output_type": "stream",
     "text": [
      "<class 'pandas.core.frame.DataFrame'>\n",
      "Int64Index: 1 entries, 0 to 0\n",
      "Data columns (total 18 columns):\n",
      " #   Column      Non-Null Count  Dtype         \n",
      "---  ------      --------------  -----         \n",
      " 0   statename   1 non-null      object        \n",
      " 1   distcode    1 non-null      object        \n",
      " 2   cusname     1 non-null      object        \n",
      " 3   cusgroname  1 non-null      object        \n",
      " 4   rtrid       1 non-null      object        \n",
      " 5   rtrcode     1 non-null      object        \n",
      " 6   rtrname     1 non-null      object        \n",
      " 7   invdate     1 non-null      datetime64[ns]\n",
      " 8   brand       1 non-null      object        \n",
      " 9   brandpack   1 non-null      object        \n",
      " 10  totqty      1 non-null      int64         \n",
      " 11  netamt      1 non-null      float64       \n",
      " 12  basevalue   1 non-null      float64       \n",
      " 13  category    1 non-null      object        \n",
      " 14  prdcode     1 non-null      object        \n",
      " 15  div         1 non-null      object        \n",
      " 16  Jc          1 non-null      object        \n",
      " 17  Week        1 non-null      int64         \n",
      "dtypes: datetime64[ns](1), float64(2), int64(2), object(13)\n",
      "memory usage: 152.0+ bytes\n"
     ]
    }
   ],
   "source": [
    "test.info()"
   ]
  },
  {
   "cell_type": "code",
   "execution_count": 131,
   "metadata": {
    "scrolled": true
   },
   "outputs": [],
   "source": [
    "test = pd.DataFrame(test)"
   ]
  },
  {
   "cell_type": "code",
   "execution_count": 132,
   "metadata": {},
   "outputs": [
    {
     "data": {
      "text/plain": [
       "(1104822, 18)"
      ]
     },
     "execution_count": 132,
     "metadata": {},
     "output_type": "execute_result"
    }
   ],
   "source": [
    "data.shape"
   ]
  },
  {
   "cell_type": "markdown",
   "metadata": {},
   "source": [
    "# SQL CONNECTION"
   ]
  },
  {
   "cell_type": "code",
   "execution_count": 137,
   "metadata": {},
   "outputs": [],
   "source": [
    "import pyodbc "
   ]
  },
  {
   "cell_type": "code",
   "execution_count": 138,
   "metadata": {},
   "outputs": [],
   "source": [
    "connStr = (\"DRIVER={ODBC Driver 13 for SQL Server};\"\n",
    "           \"Server=DESKTOP-KGNPIA3\\SQLEXPRESS;\"\n",
    "           \"Database=sso_db;\"\n",
    "           \"Trusted_Connection=yes\")\n",
    "conn = pyodbc.connect(connStr)"
   ]
  },
  {
   "cell_type": "code",
   "execution_count": 139,
   "metadata": {},
   "outputs": [],
   "source": [
    "cursor = conn.cursor()\n",
    "for index,row in data.iterrows():\n",
    "    cursor.execute(\"INSERT INTO new_cleaned_data(statename,distcode,cusname,cusgroname,rtrid,rtrcode,rtrname,invdate,brand,prdcode,brandpack,totqty,netamt,basevalue,category,div,Jc,Week) values(?,?,?,?,?,?,?,?,?,?,?,?,?,?,?,?,?,?);\",\n",
    "                        row['statename'],\n",
    "                        row['distcode'],\n",
    "                        row['cusname'],\n",
    "                        row['cusgroname'],\n",
    "                        row['rtrid'],\n",
    "                        row['rtrcode'],\n",
    "                        row['rtrname'],\n",
    "                        row['invdate'],\n",
    "                        row['brand'],\n",
    "                        row['prdcode'],\n",
    "                        row['brandpack'],\n",
    "                        row['totqty'],\n",
    "                        row['netamt'],\n",
    "                        row['basevalue'],\n",
    "                        row['category'],\n",
    "                        row['div'],\n",
    "                        row['Jc'],\n",
    "                        row['Week'])\n",
    "\n",
    "    conn.commit()\n",
    "cursor.close()\n",
    "conn.close()"
   ]
  },
  {
   "cell_type": "code",
   "execution_count": null,
   "metadata": {},
   "outputs": [],
   "source": []
  }
 ],
 "metadata": {
  "kernelspec": {
   "display_name": "Python 3",
   "language": "python",
   "name": "python3"
  },
  "language_info": {
   "codemirror_mode": {
    "name": "ipython",
    "version": 3
   },
   "file_extension": ".py",
   "mimetype": "text/x-python",
   "name": "python",
   "nbconvert_exporter": "python",
   "pygments_lexer": "ipython3",
   "version": "3.7.5"
  }
 },
 "nbformat": 4,
 "nbformat_minor": 4
}
