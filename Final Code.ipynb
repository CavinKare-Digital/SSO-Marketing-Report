{
 "cells": [
  {
   "cell_type": "code",
   "execution_count": 2,
   "metadata": {},
   "outputs": [],
   "source": [
    "import pandas as pd\n",
    "pd.options.mode.chained_assignment = None #for not showing warning message \n",
    "pd.options.display.float_format = '{:,.2f}'.format #for setting thhe float format to this notebook"
   ]
  },
  {
   "cell_type": "markdown",
   "metadata": {},
   "source": [
    "# Reading Master Data"
   ]
  },
  {
   "cell_type": "code",
   "execution_count": 9,
   "metadata": {
    "scrolled": true
   },
   "outputs": [],
   "source": [
    "jccycle                   =      pd.read_excel(\"D:\\Analytics\\Marketing Report\\Journey Cycle\\Master Journey Cycle.xlsx\")\n",
    "geodata                   =      pd.read_csv(\"D:\\Analytics\\Marketing Report\\FY 19-20\\Master Data\\Geodata.csv\")\n",
    "product_hierarchy         =      pd.read_csv(\"D:\\Analytics\\Marketing Report\\FY 19-20\\Master Data\\Product_Hierarchy.csv\")\n",
    "static_category_lookup    =      pd.read_excel(\"D:\\Analytics\\Marketing Report\\FY 19-20\\Master Data\\Static_Category_Lookup.xlsx\")\n",
    "retailer_latest           =      pd.read_excel(\"D:\\Analytics\\Marketing Report\\FY 19-20\\Master Data\\Retailer_Latest.xlsx\")\n",
    "consolidated_graph        =      pd.read_excel(\"D:\\Analytics\\Marketing Report\\FY 19-20\\Master Data\\Consolidated_Graph.xlsx\")\n",
    "distributor_type          =      pd.read_excel(\"D:\\Analytics\\Marketing Report\\FY 19-20\\Master Data\\Distributor_Type.xlsx\")\n",
    "active_retailers_PerJC    =      pd.read_csv(\"D:\\Analytics\\Marketing Report\\FY 19-20\\Master Data\\Active_Retailers_PerJC.csv\",\n",
    "                                              low_memory=False)"
   ]
  },
  {
   "cell_type": "code",
   "execution_count": 123,
   "metadata": {},
   "outputs": [],
   "source": [
    "geodata                   =      pd.read_csv(\"D:\\Analytics\\Marketing Report\\FY 19-20\\Master Data\\Geodata.csv\")"
   ]
  },
  {
   "cell_type": "markdown",
   "metadata": {},
   "source": [
    "# Reading the dataset from FY 19-20 folder"
   ]
  },
  {
   "cell_type": "code",
   "execution_count": 21,
   "metadata": {},
   "outputs": [],
   "source": [
    "data = pd.read_excel(\"D:\\Analytics\\Marketing Report\\FY 19-20\\RS CONNECT MIS REPORT JC 07.xlsx\",sheet_name = \"Sheet1\")"
   ]
  },
  {
   "cell_type": "code",
   "execution_count": 23,
   "metadata": {},
   "outputs": [],
   "source": [
    "backup = data"
   ]
  },
  {
   "cell_type": "markdown",
   "metadata": {},
   "source": [
    "# Data Cleaning - Imputing Nulls and Feature Selection"
   ]
  },
  {
   "cell_type": "code",
   "execution_count": 24,
   "metadata": {},
   "outputs": [
    {
     "data": {
      "text/plain": [
       "Index(['statename', 'distcode', 'distname', 'disttype', 'salesmancode',\n",
       "       'salesmanname', 'routecode', 'routename', 'rtrid', 'rtrcode', 'rtrname',\n",
       "       'rtrgroupcde', 'rtrclasscde', 'billno', 'invdate', 'brand', 'b.pack',\n",
       "       'prdcode', 'prdname', 'totqty', 'grossamt', 'taxableamt', 'netamt',\n",
       "       'basevalue', 'div'],\n",
       "      dtype='object')"
      ]
     },
     "execution_count": 24,
     "metadata": {},
     "output_type": "execute_result"
    }
   ],
   "source": [
    "data.columns = map(str.lower, data.columns)\n",
    "data.columns"
   ]
  },
  {
   "cell_type": "code",
   "execution_count": 25,
   "metadata": {},
   "outputs": [],
   "source": [
    "data = data.rename(columns = {\"distname\" : \"cusname\",\n",
    "                              \"disttype\" : \"cusgroname\",\n",
    "                              \"rtrgroupcde\" : \"category\"})"
   ]
  },
  {
   "cell_type": "markdown",
   "metadata": {},
   "source": [
    "### Data Cleaning Function\n",
    "\n",
    "1. Changing the column names to lower case.    \n",
    "2. null_cols variable will show which column has the null values. Only taxable ammount can have null values.\n",
    "3. Imputing the NA values in category as <b>\"Kirana\"</b>\n",
    "4. And Imputing the <b>rtrcode</b> and <b>rtrname</b> NA values as <b>\"Data not found\"</b>\n",
    "5. Merging the data with <b>Master JC  cycle</b> created and finding the JC value for that data.\n",
    "6. After Merging the columns used are\n",
    "                distcode\n",
    "                rtrcode\n",
    "                prdcode\n",
    "                cusname\n",
    "                cusgroname\n",
    "                billno\n",
    "                invdate\n",
    "                totqty\n",
    "                basevalue\n",
    "                div\n",
    "                Jc\n",
    "                Week\n",
    "        \n",
    "                \n",
    "\n",
    "        \n",
    "    "
   ]
  },
  {
   "cell_type": "code",
   "execution_count": 26,
   "metadata": {},
   "outputs": [],
   "source": [
    "def datacleaning(dataframe):\n",
    "    data2               = dataframe\n",
    "    data2.columns       = map(str.lower, data2.columns)\n",
    "    data2               = data2[[\"distcode\",\"statename\",\"rtrcode\",\"category\",\"prdcode\",\"cusname\",\"cusgroname\",\n",
    "                                 \"billno\",\"invdate\",\"totqty\",\"basevalue\",\"div\"]]\n",
    "    data2[\"category\"]   = data2[\"category\"].fillna(value = \"Kirana\")\n",
    "    data2[\"rtrcode\"]    = data2[\"rtrcode\"].fillna(value = \"Data not found\")\n",
    "    null_cols           = data2.isnull().sum().to_frame().reset_index()\n",
    "#     null_cols[null_cols[0] != 0]\n",
    "    data2               = pd.merge(data2, jccycle, left_on = \"invdate\", right_on = \"Wk_Start_Date\")\n",
    "    data2.drop(columns  = [\"Wk_Start_Date\"] ,axis = 1,inplace = True)\n",
    "    print (null_cols)\n",
    "    print(\" \\n If the above values are zero proceed to next step\")\n",
    "    return data2"
   ]
  },
  {
   "cell_type": "code",
   "execution_count": 27,
   "metadata": {},
   "outputs": [
    {
     "name": "stdout",
     "output_type": "stream",
     "text": [
      "         index  0\n",
      "0     distcode  0\n",
      "1    statename  0\n",
      "2      rtrcode  0\n",
      "3     category  0\n",
      "4      prdcode  0\n",
      "5      cusname  0\n",
      "6   cusgroname  0\n",
      "7       billno  0\n",
      "8      invdate  0\n",
      "9       totqty  0\n",
      "10   basevalue  0\n",
      "11         div  0\n",
      " \n",
      " If the above values are zero proceed to next step\n"
     ]
    }
   ],
   "source": [
    "data = datacleaning(data)"
   ]
  },
  {
   "cell_type": "code",
   "execution_count": 125,
   "metadata": {},
   "outputs": [
    {
     "name": "stdout",
     "output_type": "stream",
     "text": [
      "\n"
     ]
    }
   ],
   "source": [
    "print(\"\")"
   ]
  },
  {
   "cell_type": "markdown",
   "metadata": {},
   "source": [
    "# Appending Master Data 1 - Geodata"
   ]
  },
  {
   "cell_type": "code",
   "execution_count": 124,
   "metadata": {},
   "outputs": [
    {
     "name": "stdout",
     "output_type": "stream",
     "text": [
      "There are no new data to append the Master Table Geodata\n",
      "Empty DataFrame\n",
      "Columns: [statename, distcode]\n",
      "Index: []\n"
     ]
    }
   ],
   "source": [
    "geodata_new      = data[[\"statename\",\"distcode\"]]\n",
    "geodata_new      = geodata.drop_duplicates()\n",
    "geodata_check    = pd.merge(geodata_new,geodata[\"distcode\"],on = \"distcode\",how = \"left\",indicator = True)\n",
    "geonew_check     = geodata_check[geodata_check[\"_merge\"] != 'both']\n",
    "geonew_count     = geonew_check[[\"statename\",\"distcode\"]]\n",
    "\n",
    "if len(geonew_count) > 0:\n",
    "    geodata      = geodata.append(geonew_count)\n",
    "    geodata.to_csv  (\"D:\\Analytics\\Marketing Report\\FY 19-20\\Master Data\\Geodata.csv\",index = False)\n",
    "    print           (\"New data apppended to the Master Table - Geodata\")\n",
    "else:\n",
    "    print           (\"There are no new data to append the Master Table Geodata\")\n",
    "\n",
    "print(geonew_count)"
   ]
  },
  {
   "cell_type": "code",
   "execution_count": null,
   "metadata": {},
   "outputs": [],
   "source": []
  },
  {
   "cell_type": "code",
   "execution_count": null,
   "metadata": {},
   "outputs": [],
   "source": []
  },
  {
   "cell_type": "code",
   "execution_count": null,
   "metadata": {},
   "outputs": [],
   "source": []
  },
  {
   "cell_type": "code",
   "execution_count": null,
   "metadata": {},
   "outputs": [],
   "source": []
  },
  {
   "cell_type": "code",
   "execution_count": null,
   "metadata": {},
   "outputs": [],
   "source": []
  },
  {
   "cell_type": "code",
   "execution_count": null,
   "metadata": {},
   "outputs": [],
   "source": []
  },
  {
   "cell_type": "code",
   "execution_count": null,
   "metadata": {},
   "outputs": [],
   "source": []
  },
  {
   "cell_type": "code",
   "execution_count": null,
   "metadata": {},
   "outputs": [],
   "source": []
  },
  {
   "cell_type": "code",
   "execution_count": null,
   "metadata": {},
   "outputs": [],
   "source": []
  },
  {
   "cell_type": "code",
   "execution_count": null,
   "metadata": {},
   "outputs": [],
   "source": []
  },
  {
   "cell_type": "markdown",
   "metadata": {},
   "source": [
    "### Cleaned data is moved to new folder"
   ]
  },
  {
   "cell_type": "code",
   "execution_count": 21,
   "metadata": {},
   "outputs": [],
   "source": [
    "data.to_csv(\"D:\\Analytics\\Marketing Report\\FY 19-20\\Cleaned data\\Cleaned_JC03.csv\",index = False)"
   ]
  },
  {
   "cell_type": "code",
   "execution_count": null,
   "metadata": {},
   "outputs": [],
   "source": []
  },
  {
   "cell_type": "code",
   "execution_count": null,
   "metadata": {},
   "outputs": [],
   "source": []
  },
  {
   "cell_type": "markdown",
   "metadata": {},
   "source": [
    "# Code to find active retailers and All retailers"
   ]
  },
  {
   "cell_type": "code",
   "execution_count": null,
   "metadata": {},
   "outputs": [],
   "source": [
    "data = pd.read_csv(\"D:\\Analytics\\Marketing Report\\FY 19-20\\Cleaned data\\Cleaned_JC06.csv\")\n",
    "data.shape"
   ]
  },
  {
   "cell_type": "code",
   "execution_count": null,
   "metadata": {},
   "outputs": [],
   "source": [
    "data[\"Jc\"].unique()[0]"
   ]
  },
  {
   "cell_type": "code",
   "execution_count": null,
   "metadata": {},
   "outputs": [],
   "source": [
    "def retailer_classifier(data):\n",
    "    a = data[\"Jc\"].unique()[0]\n",
    "    jc_active     = data.groupby([\"Jc\",\"rtrcode\"]).agg(Active = (\"Week\",\"nunique\"), \n",
    "                                                   Sales = (\"basevalue\",\"sum\"),\n",
    "                                                   JC_count = (\"rtrcode\",\"count\")\n",
    "                                                  ).reset_index()\n",
    "    # act_retailers.sort_values(by = \"Active\", ascending= False)\n",
    "#   jc_active = pd.merge(retailer_master,act_retailers[[\"rtrcode\",\"Active\",\"Sales\"]], how = \"left\", on = \"rtrcode\")\n",
    "    #From the input cleaned dataset after merging with JC cycle  table we are using the Jc  column as a \n",
    "    # dynamic variable for classifying the retailers.\n",
    "     \n",
    "#     jc_active['JC' + str(a) + '_Active'] =  np.nan\n",
    "    jc_active = jc_active.rename(columns = {\"JC_count\" : 'JC' + str(a) + '_count'})\n",
    "    jc_active.loc[jc_active['Active'].isin([1,2,3,4]),'JC' + str(a) + '_Active'] = 'All'\n",
    "    jc_active.loc[jc_active['Active'].isin([4]),'JC' + str(a) + '_Active'] = 'Active'\n",
    "    jc_active.loc[jc_active['Active'].isnull(),'JC' + str(a) + '_Active'] = 'NULL'\n",
    "    jc_active['JC' + str(a) + '_Sales'] = jc_active[\"Sales\"] * 100000\n",
    "    jc_active['JC' + str(a) + '_Throughput'] = jc_active['JC' + str(a) + '_Sales'] / jc_active['JC' + str(a) + '_count']\n",
    "    jc_active = jc_active[[\"rtrcode\",\n",
    "                             'JC' + str(a) + '_Active',\n",
    "                             'JC' + str(a) + '_count',\n",
    "                             'JC' + str(a) + '_Sales',\n",
    "                             'JC' + str(a) + '_Throughput']]\n",
    "    return jc_active"
   ]
  },
  {
   "cell_type": "code",
   "execution_count": null,
   "metadata": {},
   "outputs": [],
   "source": [
    "jc_active = retailer_classifier(data)"
   ]
  },
  {
   "cell_type": "code",
   "execution_count": null,
   "metadata": {},
   "outputs": [],
   "source": [
    "jc_active.head(3)"
   ]
  },
  {
   "cell_type": "code",
   "execution_count": null,
   "metadata": {},
   "outputs": [],
   "source": [
    "active_retailer_perjc = pd.read_csv(\"D:\\Analytics\\Marketing Report\\FY 19-20\\Master Data\\Active_Retailers_PerJC.csv\")"
   ]
  },
  {
   "cell_type": "code",
   "execution_count": null,
   "metadata": {},
   "outputs": [],
   "source": [
    "newdata = pd.merge(active_retailer_perjc,jc_active,\n",
    "                  on = \"rtrcode\",\n",
    "                  how=\"left\")"
   ]
  },
  {
   "cell_type": "code",
   "execution_count": null,
   "metadata": {},
   "outputs": [],
   "source": [
    "newdata.head(3)"
   ]
  },
  {
   "cell_type": "code",
   "execution_count": null,
   "metadata": {},
   "outputs": [],
   "source": [
    "newdata.to_csv(\"D:\\Analytics\\Marketing Report\\FY 19-20\\Master Data\\Active_Retailers_PerJC.csv\",index=False)"
   ]
  },
  {
   "cell_type": "markdown",
   "metadata": {},
   "source": [
    "# Throughput Graph"
   ]
  },
  {
   "cell_type": "code",
   "execution_count": 114,
   "metadata": {},
   "outputs": [
    {
     "name": "stderr",
     "output_type": "stream",
     "text": [
      "C:\\Users\\DELL\\Anaconda3\\lib\\site-packages\\IPython\\core\\interactiveshell.py:3051: DtypeWarning: Columns (1,5,9,13,17) have mixed types. Specify dtype option on import or set low_memory=False.\n",
      "  interactivity=interactivity, compiler=compiler, result=result)\n"
     ]
    }
   ],
   "source": [
    "active_retailers_perjc = pd.read_csv(\"D:\\Analytics\\Marketing Report\\FY 19-20\\Master Data\\Active_Retailers_PerJC.csv\")"
   ]
  },
  {
   "cell_type": "code",
   "execution_count": 131,
   "metadata": {},
   "outputs": [
    {
     "data": {
      "text/html": [
       "<div>\n",
       "<style scoped>\n",
       "    .dataframe tbody tr th:only-of-type {\n",
       "        vertical-align: middle;\n",
       "    }\n",
       "\n",
       "    .dataframe tbody tr th {\n",
       "        vertical-align: top;\n",
       "    }\n",
       "\n",
       "    .dataframe thead th {\n",
       "        text-align: right;\n",
       "    }\n",
       "</style>\n",
       "<table border=\"1\" class=\"dataframe\">\n",
       "  <thead>\n",
       "    <tr style=\"text-align: right;\">\n",
       "      <th></th>\n",
       "      <th>Active</th>\n",
       "      <th>Count</th>\n",
       "      <th>Sales</th>\n",
       "      <th>Throughput</th>\n",
       "      <th>JC</th>\n",
       "    </tr>\n",
       "  </thead>\n",
       "  <tbody>\n",
       "    <tr>\n",
       "      <th>0</th>\n",
       "      <td>Active</td>\n",
       "      <td>437.00</td>\n",
       "      <td>98,100.33</td>\n",
       "      <td>3,932.13</td>\n",
       "      <td>1</td>\n",
       "    </tr>\n",
       "    <tr>\n",
       "      <th>1</th>\n",
       "      <td>All</td>\n",
       "      <td>264,144.00</td>\n",
       "      <td>403,977,135.32</td>\n",
       "      <td>80,719,352.91</td>\n",
       "      <td>1</td>\n",
       "    </tr>\n",
       "    <tr>\n",
       "      <th>0</th>\n",
       "      <td>Active</td>\n",
       "      <td>65,068.00</td>\n",
       "      <td>135,186,255.77</td>\n",
       "      <td>4,727,452.01</td>\n",
       "      <td>2</td>\n",
       "    </tr>\n",
       "    <tr>\n",
       "      <th>1</th>\n",
       "      <td>All</td>\n",
       "      <td>454,109.00</td>\n",
       "      <td>540,807,806.95</td>\n",
       "      <td>113,683,898.50</td>\n",
       "      <td>2</td>\n",
       "    </tr>\n",
       "    <tr>\n",
       "      <th>0</th>\n",
       "      <td>Active</td>\n",
       "      <td>75,353.00</td>\n",
       "      <td>196,319,599.26</td>\n",
       "      <td>6,413,080.06</td>\n",
       "      <td>3</td>\n",
       "    </tr>\n",
       "    <tr>\n",
       "      <th>1</th>\n",
       "      <td>All</td>\n",
       "      <td>553,954.00</td>\n",
       "      <td>951,911,131.11</td>\n",
       "      <td>186,738,101.40</td>\n",
       "      <td>3</td>\n",
       "    </tr>\n",
       "    <tr>\n",
       "      <th>0</th>\n",
       "      <td>Active</td>\n",
       "      <td>101,404.00</td>\n",
       "      <td>252,307,100.73</td>\n",
       "      <td>7,762,265.04</td>\n",
       "      <td>4</td>\n",
       "    </tr>\n",
       "    <tr>\n",
       "      <th>1</th>\n",
       "      <td>All</td>\n",
       "      <td>714,488.00</td>\n",
       "      <td>713,025,938.65</td>\n",
       "      <td>138,396,306.59</td>\n",
       "      <td>4</td>\n",
       "    </tr>\n",
       "    <tr>\n",
       "      <th>0</th>\n",
       "      <td>Active</td>\n",
       "      <td>101,408.00</td>\n",
       "      <td>211,941,874.36</td>\n",
       "      <td>7,188,252.67</td>\n",
       "      <td>5</td>\n",
       "    </tr>\n",
       "    <tr>\n",
       "      <th>1</th>\n",
       "      <td>All</td>\n",
       "      <td>835,732.00</td>\n",
       "      <td>612,106,418.55</td>\n",
       "      <td>125,513,838.76</td>\n",
       "      <td>5</td>\n",
       "    </tr>\n",
       "    <tr>\n",
       "      <th>0</th>\n",
       "      <td>Active</td>\n",
       "      <td>98,028.00</td>\n",
       "      <td>209,247,989.57</td>\n",
       "      <td>8,162,278.26</td>\n",
       "      <td>6</td>\n",
       "    </tr>\n",
       "    <tr>\n",
       "      <th>1</th>\n",
       "      <td>All</td>\n",
       "      <td>864,943.00</td>\n",
       "      <td>679,099,451.99</td>\n",
       "      <td>141,078,240.79</td>\n",
       "      <td>6</td>\n",
       "    </tr>\n",
       "  </tbody>\n",
       "</table>\n",
       "</div>"
      ],
      "text/plain": [
       "   Active      Count          Sales     Throughput  JC\n",
       "0  Active     437.00      98,100.33       3,932.13   1\n",
       "1     All 264,144.00 403,977,135.32  80,719,352.91   1\n",
       "0  Active  65,068.00 135,186,255.77   4,727,452.01   2\n",
       "1     All 454,109.00 540,807,806.95 113,683,898.50   2\n",
       "0  Active  75,353.00 196,319,599.26   6,413,080.06   3\n",
       "1     All 553,954.00 951,911,131.11 186,738,101.40   3\n",
       "0  Active 101,404.00 252,307,100.73   7,762,265.04   4\n",
       "1     All 714,488.00 713,025,938.65 138,396,306.59   4\n",
       "0  Active 101,408.00 211,941,874.36   7,188,252.67   5\n",
       "1     All 835,732.00 612,106,418.55 125,513,838.76   5\n",
       "0  Active  98,028.00 209,247,989.57   8,162,278.26   6\n",
       "1     All 864,943.00 679,099,451.99 141,078,240.79   6"
      ]
     },
     "execution_count": 131,
     "metadata": {},
     "output_type": "execute_result"
    }
   ],
   "source": [
    "a = 6\n",
    "tempdata = active_retailers_perjc[[\"JC\" + str(a) + \"_Active\",\n",
    "                                   \"JC\" + str(a) + \"_count\",\n",
    "                                   \"JC\" + str(a) + \"_Sales\",\n",
    "                                   \"JC\" + str(a) + \"_Throughput\"]]\n",
    "\n",
    "temp_groupby = tempdata.groupby([\"JC\" + str(a) + \"_Active\"]).agg(Count = (\"JC\" + str(a) + \"_count\",\"sum\"),\n",
    "                                                                Sales = (\"JC\" + str(a) + \"_Sales\",\"sum\"),\n",
    "                                                                Throughput = (\"JC\" + str(a) + \"_Throughput\",\"sum\"))\n",
    "\n",
    "temp_graph = pd.DataFrame(temp_groupby).reset_index()\n",
    "temp_graph[\"JC\"] = a\n",
    "temp_graph = temp_graph.rename(columns = {\"JC\" + str(a) + \"_Active\":\"Active\"})\n",
    "graph = graph.append(temp_graph)\n",
    "# graph = temp_graph\n",
    "graph.head(2)"
   ]
  },
  {
   "cell_type": "code",
   "execution_count": 132,
   "metadata": {},
   "outputs": [],
   "source": [
    "graph.to_excel(\"D:\\Analytics\\Marketing Report\\FY 19-20\\Master Data\\Consolidated_Graph.xlsx\",index = False)"
   ]
  },
  {
   "cell_type": "code",
   "execution_count": null,
   "metadata": {},
   "outputs": [],
   "source": []
  },
  {
   "cell_type": "code",
   "execution_count": null,
   "metadata": {},
   "outputs": [],
   "source": []
  },
  {
   "cell_type": "code",
   "execution_count": null,
   "metadata": {},
   "outputs": [],
   "source": []
  },
  {
   "cell_type": "code",
   "execution_count": null,
   "metadata": {},
   "outputs": [],
   "source": []
  },
  {
   "cell_type": "code",
   "execution_count": null,
   "metadata": {},
   "outputs": [],
   "source": []
  },
  {
   "cell_type": "code",
   "execution_count": null,
   "metadata": {},
   "outputs": [],
   "source": [
    " "
   ]
  },
  {
   "cell_type": "code",
   "execution_count": 113,
   "metadata": {},
   "outputs": [],
   "source": []
  },
  {
   "cell_type": "code",
   "execution_count": null,
   "metadata": {},
   "outputs": [],
   "source": []
  }
 ],
 "metadata": {
  "kernelspec": {
   "display_name": "Python 3",
   "language": "python",
   "name": "python3"
  },
  "language_info": {
   "codemirror_mode": {
    "name": "ipython",
    "version": 3
   },
   "file_extension": ".py",
   "mimetype": "text/x-python",
   "name": "python",
   "nbconvert_exporter": "python",
   "pygments_lexer": "ipython3",
   "version": "3.7.5"
  }
 },
 "nbformat": 4,
 "nbformat_minor": 2
}
