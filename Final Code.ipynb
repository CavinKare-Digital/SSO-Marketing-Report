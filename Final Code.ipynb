{
 "cells": [
  {
   "cell_type": "code",
   "execution_count": 1,
   "metadata": {},
   "outputs": [],
   "source": [
    "import pandas as pd\n",
    "pd.options.mode.chained_assignment = None #for not showing warning message \n",
    "pd.options.display.float_format = '{:,.7f}'.format #for setting thhe float format to this notebook"
   ]
  },
  {
   "cell_type": "code",
   "execution_count": 1,
   "metadata": {},
   "outputs": [],
   "source": [
    " #### commnet"
   ]
  },
  {
   "cell_type": "code",
   "execution_count": 2,
   "metadata": {},
   "outputs": [],
   "source": [
    "jccycle                   =      pd.read_excel(\"D:\\Analytics\\Marketing Report\\Journey Cycle\\Master Journey Cycle.xlsx\")\n",
    "product_hierarchy         =      pd.read_excel(\"D:\\Analytics\\Marketing Report\\FY 19-20\\Master Data\\Product Hierarchy.xlsx\")"
   ]
  },
  {
   "cell_type": "code",
   "execution_count": 141,
   "metadata": {},
   "outputs": [],
   "source": [
    "# data3 = pd.read_excel(\"D:\\Analytics\\Marketing Report\\FY 19-20\\RS CONNECT MIS REPORT JC 03.xlsx\",sheet_name = \"Sheet1\")\n",
    "# data4 = pd.read_excel(\"D:\\Analytics\\Marketing Report\\FY 19-20\\RS CONNECT MIS REPORT JC 04.xlsx\",sheet_name = \"Sheet1\")\n",
    "# data5 = pd.read_excel(\"D:\\Analytics\\Marketing Report\\FY 19-20\\RS CONNECT MIS REPORT JC 05.xlsx\",sheet_name = \"Sheet1\")\n",
    "# data6 = pd.read_excel(\"D:\\Analytics\\Marketing Report\\FY 19-20\\RS CONNECT MIS REPORT JC 06.xlsx\",sheet_name = \"Sheet1\")\n",
    "# data7 = pd.read_excel(\"D:\\Analytics\\Marketing Report\\FY 19-20\\RS CONNECT MIS REPORT JC 07.xlsx\",sheet_name = \"Sheet1\")\n",
    "# data8 = pd.read_excel(\"D:\\Analytics\\Marketing Report\\FY 19-20\\RS CONNECT MIS REPORT JC 08.xlsx\",sheet_name = \"Sheet1\")"
   ]
  },
  {
   "cell_type": "code",
   "execution_count": 46,
   "metadata": {},
   "outputs": [],
   "source": [
    "data5.drop(columns  = [100000] ,axis = 1,inplace = True)"
   ]
  },
  {
   "cell_type": "code",
   "execution_count": 142,
   "metadata": {},
   "outputs": [],
   "source": [
    "data8.columns = map(str.lower, data8.columns)"
   ]
  },
  {
   "cell_type": "code",
   "execution_count": 143,
   "metadata": {},
   "outputs": [
    {
     "data": {
      "text/plain": [
       "Index(['statename', 'distcode', 'distname', 'disttype', 'salesmancode',\n",
       "       'salesmanname', 'routecode', 'routename', 'rtrid', 'rtrcode', 'rtrname',\n",
       "       'rtrgroupcde', 'rtrclasscde', 'billno', 'invdate', 'brand', 'b.pack',\n",
       "       'prdcode', 'prdname', 'totqty', 'grossamt', 'taxableamt', 'netamt',\n",
       "       'basevalue', 'div', 'week wise', 'rs code'],\n",
       "      dtype='object')"
      ]
     },
     "execution_count": 143,
     "metadata": {},
     "output_type": "execute_result"
    }
   ],
   "source": [
    "data8.columns"
   ]
  },
  {
   "cell_type": "code",
   "execution_count": 144,
   "metadata": {},
   "outputs": [],
   "source": [
    "data8 = data8.rename(columns = {\"distname\" : \"cusname\",\n",
    "                              \"disttype\" : \"cusgroname\",\n",
    "                              \"rtrgroupcde\" : \"category\"})"
   ]
  },
  {
   "cell_type": "code",
   "execution_count": 145,
   "metadata": {},
   "outputs": [
    {
     "data": {
      "text/plain": [
       "(936919, 27)"
      ]
     },
     "execution_count": 145,
     "metadata": {},
     "output_type": "execute_result"
    }
   ],
   "source": [
    "data8.shape"
   ]
  },
  {
   "cell_type": "code",
   "execution_count": 146,
   "metadata": {},
   "outputs": [],
   "source": [
    "data8 = data8[['statename', 'distcode', 'cusname', 'cusgroname', 'rtrid', 'rtrcode',\n",
    "       'rtrname', 'billno', 'invdate', 'brand', 'b.pack', 'prdcode', 'prdname',\n",
    "       'totqty', 'grossamt', 'taxableamt', 'netamt', 'basevalue', 'category',\n",
    "       'div']]"
   ]
  },
  {
   "cell_type": "code",
   "execution_count": 121,
   "metadata": {},
   "outputs": [
    {
     "data": {
      "text/html": [
       "<div>\n",
       "<style scoped>\n",
       "    .dataframe tbody tr th:only-of-type {\n",
       "        vertical-align: middle;\n",
       "    }\n",
       "\n",
       "    .dataframe tbody tr th {\n",
       "        vertical-align: top;\n",
       "    }\n",
       "\n",
       "    .dataframe thead th {\n",
       "        text-align: right;\n",
       "    }\n",
       "</style>\n",
       "<table border=\"1\" class=\"dataframe\">\n",
       "  <thead>\n",
       "    <tr style=\"text-align: right;\">\n",
       "      <th></th>\n",
       "      <th>statename</th>\n",
       "      <th>distcode</th>\n",
       "      <th>cusname</th>\n",
       "      <th>cusgroname</th>\n",
       "      <th>rtrid</th>\n",
       "      <th>rtrcode</th>\n",
       "      <th>rtrname</th>\n",
       "      <th>billno</th>\n",
       "      <th>invdate</th>\n",
       "      <th>brand</th>\n",
       "      <th>b.pack</th>\n",
       "      <th>prdcode</th>\n",
       "      <th>prdname</th>\n",
       "      <th>totqty</th>\n",
       "      <th>grossamt</th>\n",
       "      <th>taxableamt</th>\n",
       "      <th>netamt</th>\n",
       "      <th>basevalue</th>\n",
       "      <th>category</th>\n",
       "      <th>div</th>\n",
       "    </tr>\n",
       "  </thead>\n",
       "  <tbody>\n",
       "    <tr>\n",
       "      <th>936917</th>\n",
       "      <td>NaN</td>\n",
       "      <td>MT0300032020580003202058</td>\n",
       "      <td>NaN</td>\n",
       "      <td>NaN</td>\n",
       "      <td>nan</td>\n",
       "      <td>NaN</td>\n",
       "      <td>NaN</td>\n",
       "      <td>NaN</td>\n",
       "      <td>NaT</td>\n",
       "      <td>NaN</td>\n",
       "      <td>NaN</td>\n",
       "      <td>MS05D8HFC02S</td>\n",
       "      <td>NaN</td>\n",
       "      <td>21600</td>\n",
       "      <td>0.4238908</td>\n",
       "      <td>nan</td>\n",
       "      <td>nan</td>\n",
       "      <td>0.4238908</td>\n",
       "      <td>NaN</td>\n",
       "      <td>PC</td>\n",
       "    </tr>\n",
       "    <tr>\n",
       "      <th>936918</th>\n",
       "      <td>NaN</td>\n",
       "      <td>MT0300032020580003202058</td>\n",
       "      <td>NaN</td>\n",
       "      <td>NaN</td>\n",
       "      <td>nan</td>\n",
       "      <td>NaN</td>\n",
       "      <td>NaN</td>\n",
       "      <td>NaN</td>\n",
       "      <td>NaT</td>\n",
       "      <td>NaN</td>\n",
       "      <td>NaN</td>\n",
       "      <td>MSAM0180HFC03R</td>\n",
       "      <td>NaN</td>\n",
       "      <td>384</td>\n",
       "      <td>0.2964096</td>\n",
       "      <td>nan</td>\n",
       "      <td>nan</td>\n",
       "      <td>0.2964096</td>\n",
       "      <td>NaN</td>\n",
       "      <td>PC</td>\n",
       "    </tr>\n",
       "  </tbody>\n",
       "</table>\n",
       "</div>"
      ],
      "text/plain": [
       "       statename                  distcode cusname cusgroname  rtrid rtrcode  \\\n",
       "936917       NaN  MT0300032020580003202058     NaN        NaN    nan     NaN   \n",
       "936918       NaN  MT0300032020580003202058     NaN        NaN    nan     NaN   \n",
       "\n",
       "       rtrname billno invdate brand b.pack         prdcode prdname  totqty  \\\n",
       "936917     NaN    NaN     NaT   NaN    NaN    MS05D8HFC02S     NaN   21600   \n",
       "936918     NaN    NaN     NaT   NaN    NaN  MSAM0180HFC03R     NaN     384   \n",
       "\n",
       "        grossamt  taxableamt  netamt  basevalue category div  \n",
       "936917 0.4238908         nan     nan  0.4238908      NaN  PC  \n",
       "936918 0.2964096         nan     nan  0.2964096      NaN  PC  "
      ]
     },
     "execution_count": 121,
     "metadata": {},
     "output_type": "execute_result"
    }
   ],
   "source": [
    "data8.tail(2)"
   ]
  },
  {
   "cell_type": "markdown",
   "metadata": {},
   "source": [
    "# Reading Master Data"
   ]
  },
  {
   "cell_type": "code",
   "execution_count": 119,
   "metadata": {
    "scrolled": true
   },
   "outputs": [],
   "source": [
    "jccycle                   =      pd.read_excel(\"D:\\Analytics\\Marketing Report\\Journey Cycle\\Master Journey Cycle.xlsx\")\n",
    "geodata                   =      pd.read_csv(\"D:\\Analytics\\Marketing Report\\FY 19-20\\Master Data\\Geodata.csv\")\n",
    "product_hierarchy         =      pd.read_excel(\"D:\\Analytics\\Marketing Report\\FY 19-20\\Master Data\\Product Hierarchy.xlsx\")\n",
    "static_category_lookup    =      pd.read_excel(\"D:\\Analytics\\Marketing Report\\FY 19-20\\Master Data\\Static_Category_Lookup.xlsx\")\n",
    "retailer_latest           =      pd.read_excel(\"D:\\Analytics\\Marketing Report\\FY 19-20\\Master Data\\Retailer_Latest.xlsx\")\n",
    "# consolidated_graph        =      pd.read_excel(\"D:\\Analytics\\Marketing Report\\FY 19-20\\Master Data\\Consolidated_Graph.xlsx\")\n",
    "distributor_type          =      pd.read_excel(\"D:\\Analytics\\Marketing Report\\FY 19-20\\Master Data\\Distributor_Type.xlsx\")\n",
    "# active_retailers_PerJC    =      pd.read_csv(\"D:\\Analytics\\Marketing Report\\FY 19-20\\Master Data\\Active_Retailers_PerJC.csv\",\n",
    "#                                               low_memory=False)"
   ]
  },
  {
   "cell_type": "markdown",
   "metadata": {},
   "source": [
    "# Reading the dataset from FY 19-20 folder"
   ]
  },
  {
   "cell_type": "code",
   "execution_count": 146,
   "metadata": {},
   "outputs": [],
   "source": [
    "data = pd.read_excel(\"D:\\Analytics\\Marketing Report\\FY 19-20\\RS CONNECT MIS REPORT JC 08.xlsx\",sheet_name = \"Sheet1\")"
   ]
  },
  {
   "cell_type": "code",
   "execution_count": 151,
   "metadata": {},
   "outputs": [],
   "source": [
    "backup = data"
   ]
  },
  {
   "cell_type": "markdown",
   "metadata": {},
   "source": [
    "# Data Cleaning - Imputing Nulls and Feature Selection"
   ]
  },
  {
   "cell_type": "code",
   "execution_count": 152,
   "metadata": {},
   "outputs": [
    {
     "data": {
      "text/plain": [
       "Index(['statename', 'distcode', 'distname', 'disttype', 'salesmancode',\n",
       "       'salesmanname', 'routecode', 'routename', 'rtrid', 'rtrcode', 'rtrname',\n",
       "       'rtrgroupcde', 'rtrclasscde', 'billno', 'invdate', 'brand', 'b.pack',\n",
       "       'prdcode', 'prdname', 'totqty', 'grossamt', 'taxableamt', 'netamt',\n",
       "       'basevalue', 'div', 'week wise', 'rs code'],\n",
       "      dtype='object')"
      ]
     },
     "execution_count": 152,
     "metadata": {},
     "output_type": "execute_result"
    }
   ],
   "source": [
    "data.columns = map(str.lower, data.columns)\n",
    "data.columns"
   ]
  },
  {
   "cell_type": "code",
   "execution_count": 153,
   "metadata": {},
   "outputs": [],
   "source": [
    "data = data.rename(columns = {\"distname\" : \"cusname\",\n",
    "                              \"disttype\" : \"cusgroname\",\n",
    "                              \"rtrgroupcde\" : \"category\"})"
   ]
  },
  {
   "cell_type": "markdown",
   "metadata": {},
   "source": [
    "### Data Cleaning Function\n",
    "\n",
    "1. Changing the column names to lower case.    \n",
    "2. null_cols variable will show which column has the null values. Only taxable amount can have null values.\n",
    "3. Imputing the NA values in category as <b>\"Kirana\"</b>\n",
    "4. And Imputing the <b>rtrcode</b> and <b>rtrname</b> NA values as <b>\"Data not found\"</b>\n",
    "5. Merging the data with <b>Master JC  cycle</b> created and finding the JC value for that data.\n",
    "6. After Merging the columns used are\n",
    "                distcode\n",
    "                rtrcode\n",
    "                prdcode\n",
    "                cusname\n",
    "                cusgroname\n",
    "                billno\n",
    "                invdate\n",
    "                totqty\n",
    "                basevalue\n",
    "                div\n",
    "                Jc\n",
    "                Week\n",
    "        \n",
    "                \n",
    "\n",
    "        \n",
    "    "
   ]
  },
  {
   "cell_type": "code",
   "execution_count": 147,
   "metadata": {},
   "outputs": [],
   "source": [
    "def datacleaning(dataframe):\n",
    "    data2               = dataframe\n",
    "    data2.columns       = map(str.lower, data2.columns)\n",
    "    data2               = data2[['statename', 'distcode', 'cusname', 'cusgroname', 'rtrid', 'rtrcode',\n",
    "                                   'rtrname', 'billno', 'invdate', 'brand', 'b.pack', 'prdcode', 'prdname',\n",
    "                                   'totqty', 'grossamt', 'taxableamt', 'netamt', 'basevalue', 'category',\n",
    "                                   'div']]\n",
    "    data2[\"taxableamt\"] = data2[\"taxableamt\"].fillna(value = 0)\n",
    "    data2[\"category\"]   = data2[\"category\"].fillna(value = \"Kirana\")\n",
    "    data2[[\"rtrcode\",\"rtrname\"]]    = data2[[\"rtrcode\",\"rtrname\"]].fillna(value = \"Data not found\")\n",
    "    null_data           = data2[data2.invdate.isnull()]\n",
    "    if len(null_data) > 0 :\n",
    "        print(\"Populate the null_data and append in the original data and proceed\")\n",
    "    null_cols           = data2.isnull().sum().to_frame().reset_index()\n",
    "#     null_cols[null_cols[0] != 0]\n",
    "    data2               = pd.merge(data2, jccycle, left_on = \"invdate\", right_on = \"Wk_Start_Date\")\n",
    "    data2.drop(columns  = [\"Wk_Start_Date\"] ,axis = 1,inplace = True)\n",
    "    data2[[\"rtrcode\",\"category\"]] = data2[[\"rtrcode\",\"category\"]].applymap(lambda s:(s.upper() if type(s)==str else s))\n",
    "    print (null_cols)\n",
    "    print(\" \\n If the above values are zero proceed to next step\")\n",
    "\n",
    "    return data2"
   ]
  },
  {
   "cell_type": "code",
   "execution_count": 148,
   "metadata": {},
   "outputs": [
    {
     "name": "stdout",
     "output_type": "stream",
     "text": [
      "Populate the null_data and append in the original data and proceed\n",
      "         index     0\n",
      "0    statename  8120\n",
      "1     distcode     0\n",
      "2      cusname  8120\n",
      "3   cusgroname  8120\n",
      "4        rtrid  8120\n",
      "5      rtrcode     0\n",
      "6      rtrname     0\n",
      "7       billno  8120\n",
      "8      invdate  8120\n",
      "9        brand  8120\n",
      "10      b.pack  8120\n",
      "11     prdcode     0\n",
      "12     prdname  8120\n",
      "13      totqty     0\n",
      "14    grossamt     0\n",
      "15  taxableamt     0\n",
      "16      netamt  8120\n",
      "17   basevalue     0\n",
      "18    category     0\n",
      "19         div     0\n",
      " \n",
      " If the above values are zero proceed to next step\n"
     ]
    }
   ],
   "source": [
    "data8 = datacleaning(data8)"
   ]
  },
  {
   "cell_type": "code",
   "execution_count": 137,
   "metadata": {},
   "outputs": [],
   "source": [
    "data8.isnull().sum().to_frame().reset_index()"
   ]
  },
  {
   "cell_type": "code",
   "execution_count": 155,
   "metadata": {},
   "outputs": [
    {
     "data": {
      "text/html": [
       "<div>\n",
       "<style scoped>\n",
       "    .dataframe tbody tr th:only-of-type {\n",
       "        vertical-align: middle;\n",
       "    }\n",
       "\n",
       "    .dataframe tbody tr th {\n",
       "        vertical-align: top;\n",
       "    }\n",
       "\n",
       "    .dataframe thead th {\n",
       "        text-align: right;\n",
       "    }\n",
       "</style>\n",
       "<table border=\"1\" class=\"dataframe\">\n",
       "  <thead>\n",
       "    <tr style=\"text-align: right;\">\n",
       "      <th></th>\n",
       "      <th>statename</th>\n",
       "      <th>distcode</th>\n",
       "      <th>cusname</th>\n",
       "      <th>cusgroname</th>\n",
       "      <th>rtrid</th>\n",
       "      <th>rtrcode</th>\n",
       "      <th>rtrname</th>\n",
       "      <th>billno</th>\n",
       "      <th>invdate</th>\n",
       "      <th>brand</th>\n",
       "      <th>b.pack</th>\n",
       "      <th>prdcode</th>\n",
       "      <th>prdname</th>\n",
       "      <th>totqty</th>\n",
       "      <th>grossamt</th>\n",
       "      <th>taxableamt</th>\n",
       "      <th>netamt</th>\n",
       "      <th>basevalue</th>\n",
       "      <th>category</th>\n",
       "      <th>div</th>\n",
       "    </tr>\n",
       "  </thead>\n",
       "  <tbody>\n",
       "    <tr>\n",
       "      <th>928799</th>\n",
       "      <td>NaN</td>\n",
       "      <td>CC0300020002680002000268</td>\n",
       "      <td>NaN</td>\n",
       "      <td>NaN</td>\n",
       "      <td>nan</td>\n",
       "      <td>Data not found</td>\n",
       "      <td>Data not found</td>\n",
       "      <td>NaN</td>\n",
       "      <td>2019-11-01</td>\n",
       "      <td>NaN</td>\n",
       "      <td>NaN</td>\n",
       "      <td>CJBM0150ASS09S</td>\n",
       "      <td>NaN</td>\n",
       "      <td>216</td>\n",
       "      <td>0.2376000</td>\n",
       "      <td>0.0000000</td>\n",
       "      <td>nan</td>\n",
       "      <td>0.2376000</td>\n",
       "      <td>Kirana</td>\n",
       "      <td>CY</td>\n",
       "    </tr>\n",
       "    <tr>\n",
       "      <th>928800</th>\n",
       "      <td>NaN</td>\n",
       "      <td>CC0300020002680002000268</td>\n",
       "      <td>NaN</td>\n",
       "      <td>NaN</td>\n",
       "      <td>nan</td>\n",
       "      <td>Data not found</td>\n",
       "      <td>Data not found</td>\n",
       "      <td>NaN</td>\n",
       "      <td>2019-11-01</td>\n",
       "      <td>NaN</td>\n",
       "      <td>NaN</td>\n",
       "      <td>INAM0005NBK10S</td>\n",
       "      <td>NaN</td>\n",
       "      <td>3672</td>\n",
       "      <td>1.1056392</td>\n",
       "      <td>0.0000000</td>\n",
       "      <td>nan</td>\n",
       "      <td>1.1056392</td>\n",
       "      <td>Kirana</td>\n",
       "      <td>PC</td>\n",
       "    </tr>\n",
       "  </tbody>\n",
       "</table>\n",
       "</div>"
      ],
      "text/plain": [
       "       statename                  distcode cusname cusgroname  rtrid  \\\n",
       "928799       NaN  CC0300020002680002000268     NaN        NaN    nan   \n",
       "928800       NaN  CC0300020002680002000268     NaN        NaN    nan   \n",
       "\n",
       "               rtrcode         rtrname billno     invdate brand b.pack  \\\n",
       "928799  Data not found  Data not found    NaN  2019-11-01   NaN    NaN   \n",
       "928800  Data not found  Data not found    NaN  2019-11-01   NaN    NaN   \n",
       "\n",
       "               prdcode prdname  totqty  grossamt  taxableamt  netamt  \\\n",
       "928799  CJBM0150ASS09S     NaN     216 0.2376000   0.0000000     nan   \n",
       "928800  INAM0005NBK10S     NaN    3672 1.1056392   0.0000000     nan   \n",
       "\n",
       "        basevalue category div  \n",
       "928799  0.2376000   Kirana  CY  \n",
       "928800  1.1056392   Kirana  PC  "
      ]
     },
     "execution_count": 155,
     "metadata": {},
     "output_type": "execute_result"
    }
   ],
   "source": [
    "null_data.head(2)"
   ]
  },
  {
   "cell_type": "code",
   "execution_count": 189,
   "metadata": {},
   "outputs": [],
   "source": [
    "def nullcleaning(null_data):\n",
    "    \n",
    "    null_data[\"taxableamt\"] = null_data[\"taxableamt\"].fillna(value = 0)\n",
    "    null_data[\"category\"]   = null_data[\"category\"].fillna(value = \"Kirana\")\n",
    "    null_data[[\"rtrcode\",\"rtrname\"]]    = null_data[[\"rtrcode\",\"rtrname\"]].fillna(value = \"Data not found\")\n",
    "    null_data[\"invdate\"]    = \"2019-11-01\"\n",
    "    null_data[\"netamt\"]     = null_data[\"netamt\"].fillna(value = 0)\n",
    "    null_data[\"invdate\"]    = pd.to_datetime(null_data[\"invdate\"])\n",
    "    null_data               = pd.merge(null_data, jccycle, left_on = \"invdate\", right_on = \"Wk_Start_Date\")\n",
    "    null_data.drop(columns  = [\"Wk_Start_Date\"] ,axis = 1,inplace = True)\n",
    "    null_data[[\"rtrcode\",\"category\"]]   = null_data[[\"rtrcode\",\"category\"]].applymap(lambda s:(s.upper() if type(s)==str else s))\n",
    "    return null_data"
   ]
  },
  {
   "cell_type": "code",
   "execution_count": 184,
   "metadata": {},
   "outputs": [],
   "source": [
    "null_data = nullcleaning(null_data)"
   ]
  },
  {
   "cell_type": "code",
   "execution_count": 190,
   "metadata": {},
   "outputs": [],
   "source": [
    "data8 = data8.append(null_data)"
   ]
  },
  {
   "cell_type": "code",
   "execution_count": 191,
   "metadata": {},
   "outputs": [
    {
     "data": {
      "text/plain": [
       "(936919, 22)"
      ]
     },
     "execution_count": 191,
     "metadata": {},
     "output_type": "execute_result"
    }
   ],
   "source": [
    "data8.shape"
   ]
  },
  {
   "cell_type": "markdown",
   "metadata": {},
   "source": [
    "# Appending Master Data 1 - Geodata (Not Required)"
   ]
  },
  {
   "cell_type": "code",
   "execution_count": 159,
   "metadata": {},
   "outputs": [
    {
     "name": "stdout",
     "output_type": "stream",
     "text": [
      "There are no new data to append the Master Table Geodata\n",
      "Empty DataFrame\n",
      "Columns: [statename, distcode]\n",
      "Index: []\n"
     ]
    }
   ],
   "source": [
    "geodata_new      = data[[\"statename\",\"distcode\"]]\n",
    "geodata_new      = geodata.drop_duplicates()\n",
    "geodata_check    = pd.merge(geodata_new,geodata[\"distcode\"],on = \"distcode\",how = \"left\",indicator = True)\n",
    "geonew_check     = geodata_check[geodata_check[\"_merge\"] != 'both']\n",
    "geonew_count     = geonew_check[[\"statename\",\"distcode\"]]\n",
    "\n",
    "if len(geonew_count) > 0:\n",
    "    geodata      = geodata.append(geonew_count)\n",
    "    geodata.to_csv  (\"D:\\Analytics\\Marketing Report\\FY 19-20\\Master Data\\Geodata.csv\",index = False)\n",
    "    print           (\"New data apppended to the Master Table - Geodata\")\n",
    "else:\n",
    "    print           (\"There are no new data to append the Master Table Geodata\")\n",
    "\n",
    "print(geonew_count)"
   ]
  },
  {
   "cell_type": "markdown",
   "metadata": {},
   "source": [
    "# Appending Master Data 2 - Static Category Master"
   ]
  },
  {
   "cell_type": "code",
   "execution_count": 172,
   "metadata": {},
   "outputs": [
    {
     "name": "stdout",
     "output_type": "stream",
     "text": [
      "There are no new data to append the Master Static category lookup Table \n"
     ]
    }
   ],
   "source": [
    "rtrcode_category_check = pd.DataFrame(data[\"category\"].unique())\n",
    "rtrcode_category_check = rtrcode_category_check.rename(columns = {0 : \"category\"})\n",
    "rtrcode_category_check = pd.merge(rtrcode_category_check,\n",
    "                                  static_category_lookup,\n",
    "                                  left_on=\"category\",\n",
    "                                  right_on=\"Old_Category\", \n",
    "                                  how = \"left\",\n",
    "                                  indicator = True)\n",
    "rtrcode_category_check = rtrcode_category_check[rtrcode_category_check[\"_merge\"] != 'both']\n",
    "\n",
    "if len(rtrcode_category_check) > 0:\n",
    "    newcategory = rtrcode_category_check[rtrcode_category_check[\"_merge\"] != 'both']\n",
    "    newcategory.to_csv(r\"D:\\Analytics\\Marketing Report\\FY 19-20\\Master Data\\New_category.csv\",index = False)\n",
    "    print           (\"New data occured. Please append the static category lookup manually from category.csv file\")\n",
    "else:\n",
    "    print           (\"There are no new data to append the Master Static category lookup Table \")\n"
   ]
  },
  {
   "cell_type": "code",
   "execution_count": 171,
   "metadata": {},
   "outputs": [],
   "source": [
    "#static_category_lookup    =      pd.read_excel(\"D:\\Analytics\\Marketing Report\\FY 19-20\\Master Data\\Static_Category_Lookup.xlsx\")"
   ]
  },
  {
   "cell_type": "markdown",
   "metadata": {},
   "source": [
    "# Appending Master Data 3 - Reatiler Latest Master"
   ]
  },
  {
   "cell_type": "code",
   "execution_count": 182,
   "metadata": {},
   "outputs": [
    {
     "name": "stdout",
     "output_type": "stream",
     "text": [
      "There are no new data to append the Master Table - Retailers\n"
     ]
    }
   ],
   "source": [
    "rtrcode_new          = data[[\"rtrcode\",\"category\"]]\n",
    "rtrcode_new          = data[[\"rtrcode\",\"category\"]].drop_duplicates()\n",
    "rtrcode_check        = pd.merge(rtrcode_new,retailer_latest[\"rtrcode\"],on = \"rtrcode\", how = \"left\",indicator = True)\n",
    "rtrcode_check        = rtrcode_check[rtrcode_check[\"_merge\"] != 'both']\n",
    "new_retailer         = pd.merge(rtrcode_check,static_category_lookup,\n",
    "                                    left_on=\"category\",\n",
    "                                    right_on = \"Old_Category\",\n",
    "                                    how = \"left\") \n",
    "new_retailer         = new_retailer[[\"rtrcode\",\"Old_Category\",\"New_Category\"]]\n",
    "if len(new_retailer) > 0:\n",
    "    retailer_latest  = retailer_latest.append(new_retailer)\n",
    "    retailer_latest.to_excel  (\"D:\\Analytics\\Marketing Report\\FY 19-20\\Master Data\\Retailer_Latest.xlsx\",index = False)\n",
    "    print           (\"New data apppended to the Master Table - Retailer Latest\")\n",
    "else:\n",
    "    print           (\"There are no new data to append the Master Table - Retailers\")"
   ]
  },
  {
   "cell_type": "markdown",
   "metadata": {},
   "source": [
    "# Appending Master Data 4 - Product Master Data"
   ]
  },
  {
   "cell_type": "code",
   "execution_count": 188,
   "metadata": {},
   "outputs": [
    {
     "name": "stdout",
     "output_type": "stream",
     "text": [
      "There are no new products for the Master Table - Product Hierarchy\n"
     ]
    }
   ],
   "source": [
    "prdcode_check = pd.DataFrame(data[\"prdcode\"].unique()).rename(columns = {0 : \"prdcode\"})\n",
    "prdcode_check        = pd.merge(prdcode_check,product_hierarchy[\"PrdCode\"],\n",
    "                                left_on = \"prdcode\",\n",
    "                                right_on = \"PrdCode\",\n",
    "                                how = \"left\",\n",
    "                                indicator = True)\n",
    "prdcode_check        = prdcode_check[prdcode_check[\"_merge\"] != 'both']\n",
    "if len(prdcode_check) > 0:\n",
    "    print           (\"New data occured in the Table. Check with Business for new Hierarchy\")\n",
    "else:\n",
    "    print           (\"There are no new products for the Master Table - Product Hierarchy\")"
   ]
  },
  {
   "cell_type": "markdown",
   "metadata": {},
   "source": [
    "# Appending Master Data 5 - Distributor Type"
   ]
  },
  {
   "cell_type": "code",
   "execution_count": 186,
   "metadata": {},
   "outputs": [
    {
     "name": "stdout",
     "output_type": "stream",
     "text": [
      "There are no new distributor for the Master Table - Distributor_Type\n"
     ]
    }
   ],
   "source": [
    "cusgroname_check = pd.DataFrame(data[\"cusgroname\"].unique()).rename(columns = {0:\"cusgroname\"})\n",
    "cusgroname_check        = pd.merge(cusgroname_check,distributor_type,\n",
    "                                left_on = \"cusgroname\",\n",
    "                                right_on = \"Distributor_type\",\n",
    "                                how = \"left\",\n",
    "                                indicator = True)\n",
    "cusgroname_check = cusgroname_check[cusgroname_check[\"_merge\"] != 'both']\n",
    "if len(cusgroname_check) > 0:\n",
    "    print           (\"New data occured in the Table. Check with Business for new Distributor\")\n",
    "else:\n",
    "    print           (\"There are no new distributor for the Master Table - Distributor_Type\")"
   ]
  },
  {
   "cell_type": "markdown",
   "metadata": {},
   "source": [
    "### Cleaned data is moved to new folder"
   ]
  },
  {
   "cell_type": "code",
   "execution_count": 21,
   "metadata": {},
   "outputs": [],
   "source": [
    "data = pd.read_csv(\"D:\\Analytics\\Marketing Report\\FY 19-20\\Cleaned data\\Cleaned_JC06.csv\")\n",
    "data = data[[\"distcode\",\"rtrcode\",\"prdcode\",\"cusname\",\"cusgroname\",\"invdate\",\"totqty\",\"basevalue\",\"div\",\"Jc\",\"Week\"]]\n",
    "data.to_csv(\"D:\\Analytics\\Marketing Report\\FY 19-20\\Cleaned data\\Cleaned_JC06.csv\",index = False)"
   ]
  },
  {
   "cell_type": "code",
   "execution_count": 13,
   "metadata": {},
   "outputs": [],
   "source": []
  },
  {
   "cell_type": "code",
   "execution_count": 194,
   "metadata": {},
   "outputs": [
    {
     "data": {
      "text/html": [
       "<div>\n",
       "<style scoped>\n",
       "    .dataframe tbody tr th:only-of-type {\n",
       "        vertical-align: middle;\n",
       "    }\n",
       "\n",
       "    .dataframe tbody tr th {\n",
       "        vertical-align: top;\n",
       "    }\n",
       "\n",
       "    .dataframe thead th {\n",
       "        text-align: right;\n",
       "    }\n",
       "</style>\n",
       "<table border=\"1\" class=\"dataframe\">\n",
       "  <thead>\n",
       "    <tr style=\"text-align: right;\">\n",
       "      <th></th>\n",
       "      <th>statename</th>\n",
       "      <th>distcode</th>\n",
       "      <th>cusname</th>\n",
       "      <th>cusgroname</th>\n",
       "      <th>rtrid</th>\n",
       "      <th>rtrcode</th>\n",
       "      <th>rtrname</th>\n",
       "      <th>billno</th>\n",
       "      <th>invdate</th>\n",
       "      <th>brand</th>\n",
       "      <th>...</th>\n",
       "      <th>prdname</th>\n",
       "      <th>totqty</th>\n",
       "      <th>grossamt</th>\n",
       "      <th>taxableamt</th>\n",
       "      <th>netamt</th>\n",
       "      <th>basevalue</th>\n",
       "      <th>category</th>\n",
       "      <th>div</th>\n",
       "      <th>Jc</th>\n",
       "      <th>Week</th>\n",
       "    </tr>\n",
       "  </thead>\n",
       "  <tbody>\n",
       "    <tr>\n",
       "      <th>0</th>\n",
       "      <td>TAMIL NADU</td>\n",
       "      <td>FS0900020002600002000260</td>\n",
       "      <td>SUNETHRA INFOTECH PRIVATE LTD</td>\n",
       "      <td>Van Sales RS</td>\n",
       "      <td>78</td>\n",
       "      <td>MRET00079</td>\n",
       "      <td>A TO Z SUPER MARKET</td>\n",
       "      <td>BIL1900072</td>\n",
       "      <td>2019-04-13</td>\n",
       "      <td>Milkshake Small Pack</td>\n",
       "      <td>...</td>\n",
       "      <td>CAVINS MILKSHAKE VANNILA 180ML 30 PCS</td>\n",
       "      <td>30</td>\n",
       "      <td>649.3506600</td>\n",
       "      <td>608.8046600</td>\n",
       "      <td>639.2450000</td>\n",
       "      <td>0.0057434</td>\n",
       "      <td>KIRANA</td>\n",
       "      <td>AD</td>\n",
       "      <td>1</td>\n",
       "      <td>3</td>\n",
       "    </tr>\n",
       "    <tr>\n",
       "      <th>1</th>\n",
       "      <td>TAMIL NADU</td>\n",
       "      <td>FS0900020002600002000260</td>\n",
       "      <td>SUNETHRA INFOTECH PRIVATE LTD</td>\n",
       "      <td>Van Sales RS</td>\n",
       "      <td>1374</td>\n",
       "      <td>SIPLV658</td>\n",
       "      <td>SRI BALAJI STORE</td>\n",
       "      <td>BIL1900073</td>\n",
       "      <td>2019-04-13</td>\n",
       "      <td>Milkshake Pouch Pack</td>\n",
       "      <td>...</td>\n",
       "      <td>CAVINS MILKSHAKE CHOC 100ML 100PC RS.10</td>\n",
       "      <td>10</td>\n",
       "      <td>86.5800900</td>\n",
       "      <td>81.1740900</td>\n",
       "      <td>85.2330000</td>\n",
       "      <td>0.0007658</td>\n",
       "      <td>KIRANA</td>\n",
       "      <td>AD</td>\n",
       "      <td>1</td>\n",
       "      <td>3</td>\n",
       "    </tr>\n",
       "  </tbody>\n",
       "</table>\n",
       "<p>2 rows × 22 columns</p>\n",
       "</div>"
      ],
      "text/plain": [
       "    statename                  distcode                        cusname  \\\n",
       "0  TAMIL NADU  FS0900020002600002000260  SUNETHRA INFOTECH PRIVATE LTD   \n",
       "1  TAMIL NADU  FS0900020002600002000260  SUNETHRA INFOTECH PRIVATE LTD   \n",
       "\n",
       "     cusgroname  rtrid    rtrcode              rtrname      billno    invdate  \\\n",
       "0  Van Sales RS     78  MRET00079  A TO Z SUPER MARKET  BIL1900072 2019-04-13   \n",
       "1  Van Sales RS   1374   SIPLV658     SRI BALAJI STORE  BIL1900073 2019-04-13   \n",
       "\n",
       "                  brand  ...                                  prdname totqty  \\\n",
       "0  Milkshake Small Pack  ...    CAVINS MILKSHAKE VANNILA 180ML 30 PCS     30   \n",
       "1  Milkshake Pouch Pack  ...  CAVINS MILKSHAKE CHOC 100ML 100PC RS.10     10   \n",
       "\n",
       "     grossamt  taxableamt      netamt  basevalue  category  div Jc Week  \n",
       "0 649.3506600 608.8046600 639.2450000  0.0057434    KIRANA   AD  1    3  \n",
       "1  86.5800900  81.1740900  85.2330000  0.0007658    KIRANA   AD  1    3  \n",
       "\n",
       "[2 rows x 22 columns]"
      ]
     },
     "execution_count": 194,
     "metadata": {},
     "output_type": "execute_result"
    }
   ],
   "source": [
    "data1.head(2)"
   ]
  },
  {
   "cell_type": "code",
   "execution_count": 193,
   "metadata": {},
   "outputs": [],
   "source": [
    "data1.to_csv(r\"D:\\Analytics\\Marketing Report\\FY 19-20\\New Cleaned data\\Cleaned_JC01.csv\",index = False)"
   ]
  },
  {
   "cell_type": "code",
   "execution_count": 15,
   "metadata": {},
   "outputs": [],
   "source": []
  },
  {
   "cell_type": "code",
   "execution_count": null,
   "metadata": {},
   "outputs": [],
   "source": []
  },
  {
   "cell_type": "code",
   "execution_count": null,
   "metadata": {},
   "outputs": [],
   "source": []
  },
  {
   "cell_type": "code",
   "execution_count": null,
   "metadata": {},
   "outputs": [],
   "source": []
  },
  {
   "cell_type": "code",
   "execution_count": null,
   "metadata": {},
   "outputs": [],
   "source": []
  },
  {
   "cell_type": "code",
   "execution_count": null,
   "metadata": {},
   "outputs": [],
   "source": []
  },
  {
   "cell_type": "code",
   "execution_count": 2,
   "metadata": {},
   "outputs": [],
   "source": [
    "data1 = pd.read_csv(\"D:\\Analytics\\Marketing Report\\FY 19-20\\Cleaned data\\Cleaned_JC01.csv\")\n",
    "data2 = pd.read_csv(\"D:\\Analytics\\Marketing Report\\FY 19-20\\Cleaned data\\Cleaned_JC02.csv\")\n",
    "data3 = pd.read_csv(\"D:\\Analytics\\Marketing Report\\FY 19-20\\Cleaned data\\Cleaned_JC03.csv\")\n",
    "data4 = pd.read_csv(\"D:\\Analytics\\Marketing Report\\FY 19-20\\Cleaned data\\Cleaned_JC04.csv\")\n",
    "data5 = pd.read_csv(\"D:\\Analytics\\Marketing Report\\FY 19-20\\Cleaned data\\Cleaned_JC05.csv\")\n",
    "data6 = pd.read_csv(\"D:\\Analytics\\Marketing Report\\FY 19-20\\Cleaned data\\Cleaned_JC06.csv\")\n",
    "data7 = pd.read_csv(\"D:\\Analytics\\Marketing Report\\FY 19-20\\Cleaned data\\Cleaned_JC07.csv\")\n",
    "data8 = pd.read_csv(\"D:\\Analytics\\Marketing Report\\FY 19-20\\Cleaned data\\Cleaned_JC08.csv\")"
   ]
  },
  {
   "cell_type": "code",
   "execution_count": 225,
   "metadata": {},
   "outputs": [],
   "source": [
    "fullpath = [data1, data2, data3, data4, data5, data6, data7, data8]\n"
   ]
  },
  {
   "cell_type": "code",
   "execution_count": 226,
   "metadata": {},
   "outputs": [],
   "source": [
    "data = pd.DataFrame()\n",
    "for f in fullpath:\n",
    "#     df = pd.read_excel(f, sheet_name = 'Sheet1')\n",
    "    data = data.append(f)"
   ]
  },
  {
   "cell_type": "code",
   "execution_count": 227,
   "metadata": {},
   "outputs": [
    {
     "data": {
      "text/plain": [
       "Index(['statename', 'distcode', 'cusname', 'cusgroname', 'rtrid', 'rtrcode',\n",
       "       'rtrname', 'billno', 'invdate', 'brand', 'b.pack', 'prdcode', 'prdname',\n",
       "       'totqty', 'grossamt', 'taxableamt', 'netamt', 'basevalue', 'category',\n",
       "       'div', 'Jc', 'Week'],\n",
       "      dtype='object')"
      ]
     },
     "execution_count": 227,
     "metadata": {},
     "output_type": "execute_result"
    }
   ],
   "source": [
    "data.columns"
   ]
  },
  {
   "cell_type": "code",
   "execution_count": 228,
   "metadata": {},
   "outputs": [
    {
     "data": {
      "text/plain": [
       "array([1, 2, 3, 4, 5, 6, 7, 8], dtype=int64)"
      ]
     },
     "execution_count": 228,
     "metadata": {},
     "output_type": "execute_result"
    }
   ],
   "source": [
    "data[\"Jc\"].unique()"
   ]
  },
  {
   "cell_type": "code",
   "execution_count": 229,
   "metadata": {},
   "outputs": [
    {
     "data": {
      "text/plain": [
       "(5999581, 22)"
      ]
     },
     "execution_count": 229,
     "metadata": {},
     "output_type": "execute_result"
    }
   ],
   "source": [
    "data.shape"
   ]
  },
  {
   "cell_type": "code",
   "execution_count": 195,
   "metadata": {},
   "outputs": [
    {
     "data": {
      "text/plain": [
       "210782"
      ]
     },
     "execution_count": 195,
     "metadata": {},
     "output_type": "execute_result"
    }
   ],
   "source": [
    "data[\"rtrcode\"].nunique()"
   ]
  },
  {
   "cell_type": "code",
   "execution_count": 51,
   "metadata": {},
   "outputs": [
    {
     "data": {
      "text/plain": [
       "29003"
      ]
     },
     "execution_count": 51,
     "metadata": {},
     "output_type": "execute_result"
    }
   ],
   "source": [
    "len(list(set(data1[\"rtrcode\"]) & set(data2[\"rtrcode\"])))"
   ]
  },
  {
   "cell_type": "code",
   "execution_count": 70,
   "metadata": {},
   "outputs": [],
   "source": [
    "temp = data[data[\"rtrcode\"] == \"RET0153\"][[\"Jc\",\"rtrcode\",\"basevalue\"]]"
   ]
  },
  {
   "cell_type": "code",
   "execution_count": 71,
   "metadata": {},
   "outputs": [
    {
     "data": {
      "text/html": [
       "<div>\n",
       "<style scoped>\n",
       "    .dataframe tbody tr th:only-of-type {\n",
       "        vertical-align: middle;\n",
       "    }\n",
       "\n",
       "    .dataframe tbody tr th {\n",
       "        vertical-align: top;\n",
       "    }\n",
       "\n",
       "    .dataframe thead th {\n",
       "        text-align: right;\n",
       "    }\n",
       "</style>\n",
       "<table border=\"1\" class=\"dataframe\">\n",
       "  <thead>\n",
       "    <tr style=\"text-align: right;\">\n",
       "      <th></th>\n",
       "      <th>Jc</th>\n",
       "      <th>rtrcode</th>\n",
       "      <th>count</th>\n",
       "      <th>Sales</th>\n",
       "    </tr>\n",
       "  </thead>\n",
       "  <tbody>\n",
       "    <tr>\n",
       "      <th>0</th>\n",
       "      <td>4</td>\n",
       "      <td>RET0153</td>\n",
       "      <td>2558</td>\n",
       "      <td>45.34</td>\n",
       "    </tr>\n",
       "    <tr>\n",
       "      <th>1</th>\n",
       "      <td>5</td>\n",
       "      <td>RET0153</td>\n",
       "      <td>1478</td>\n",
       "      <td>28.11</td>\n",
       "    </tr>\n",
       "    <tr>\n",
       "      <th>2</th>\n",
       "      <td>6</td>\n",
       "      <td>RET0153</td>\n",
       "      <td>958</td>\n",
       "      <td>11.74</td>\n",
       "    </tr>\n",
       "  </tbody>\n",
       "</table>\n",
       "</div>"
      ],
      "text/plain": [
       "   Jc  rtrcode  count  Sales\n",
       "0   4  RET0153   2558  45.34\n",
       "1   5  RET0153   1478  28.11\n",
       "2   6  RET0153    958  11.74"
      ]
     },
     "execution_count": 71,
     "metadata": {},
     "output_type": "execute_result"
    }
   ],
   "source": [
    "temp.groupby([\"Jc\",\"rtrcode\"]).agg(count = (\"rtrcode\",\"count\"), Sales = (\"basevalue\",\"sum\")).reset_index()"
   ]
  },
  {
   "cell_type": "code",
   "execution_count": null,
   "metadata": {},
   "outputs": [],
   "source": []
  },
  {
   "cell_type": "code",
   "execution_count": null,
   "metadata": {},
   "outputs": [],
   "source": []
  },
  {
   "cell_type": "code",
   "execution_count": null,
   "metadata": {},
   "outputs": [],
   "source": []
  },
  {
   "cell_type": "code",
   "execution_count": null,
   "metadata": {},
   "outputs": [],
   "source": []
  },
  {
   "cell_type": "markdown",
   "metadata": {},
   "source": [
    "# Test case"
   ]
  },
  {
   "cell_type": "markdown",
   "metadata": {},
   "source": [
    "#### Sales values of a retailer(S100001151551079987)  in JC 1,2,3"
   ]
  },
  {
   "cell_type": "code",
   "execution_count": 97,
   "metadata": {},
   "outputs": [
    {
     "data": {
      "text/plain": [
       "872.1756049999999"
      ]
     },
     "execution_count": 97,
     "metadata": {},
     "output_type": "execute_result"
    }
   ],
   "source": [
    "data[(data[\"rtrcode\"] == \"S100001151551079987\") & data[\"Jc\"].isin([1,2,3])][\"basevalue\"].sum() * 100000"
   ]
  },
  {
   "cell_type": "markdown",
   "metadata": {},
   "source": [
    "#### Sales values of a retailer(S100001151551079987)  in All JCs"
   ]
  },
  {
   "cell_type": "code",
   "execution_count": 98,
   "metadata": {},
   "outputs": [
    {
     "data": {
      "text/plain": [
       "1311.402476"
      ]
     },
     "execution_count": 98,
     "metadata": {},
     "output_type": "execute_result"
    }
   ],
   "source": [
    "data[(data[\"rtrcode\"] == \"S100001151551079987\")][\"basevalue\"].sum() * 100000"
   ]
  },
  {
   "cell_type": "markdown",
   "metadata": {},
   "source": [
    "#### No. of times the retailer(S100001151551079987) logged in JC 1,2 and 3"
   ]
  },
  {
   "cell_type": "code",
   "execution_count": 99,
   "metadata": {},
   "outputs": [
    {
     "data": {
      "text/plain": [
       "17"
      ]
     },
     "execution_count": 99,
     "metadata": {},
     "output_type": "execute_result"
    }
   ],
   "source": [
    "data[(data[\"rtrcode\"] == \"S100001151551079987\") & data[\"Jc\"].isin([1,2,3])][\"rtrcode\"].count()"
   ]
  },
  {
   "cell_type": "markdown",
   "metadata": {},
   "source": [
    "#### No. of times the retailer(S100001151551079987) has logged in all JCs"
   ]
  },
  {
   "cell_type": "code",
   "execution_count": 100,
   "metadata": {},
   "outputs": [
    {
     "data": {
      "text/plain": [
       "28"
      ]
     },
     "execution_count": 100,
     "metadata": {},
     "output_type": "execute_result"
    }
   ],
   "source": [
    "data[(data[\"rtrcode\"] == \"S100001151551079987\")][\"rtrcode\"].count()"
   ]
  },
  {
   "cell_type": "markdown",
   "metadata": {},
   "source": [
    "# Testcase - Throughput"
   ]
  },
  {
   "cell_type": "code",
   "execution_count": 124,
   "metadata": {},
   "outputs": [
    {
     "data": {
      "text/html": [
       "<div>\n",
       "<style scoped>\n",
       "    .dataframe tbody tr th:only-of-type {\n",
       "        vertical-align: middle;\n",
       "    }\n",
       "\n",
       "    .dataframe tbody tr th {\n",
       "        vertical-align: top;\n",
       "    }\n",
       "\n",
       "    .dataframe thead th {\n",
       "        text-align: right;\n",
       "    }\n",
       "</style>\n",
       "<table border=\"1\" class=\"dataframe\">\n",
       "  <thead>\n",
       "    <tr style=\"text-align: right;\">\n",
       "      <th></th>\n",
       "      <th>Jc</th>\n",
       "      <th>rtrcode</th>\n",
       "      <th>Count</th>\n",
       "      <th>Sales</th>\n",
       "      <th>throughput</th>\n",
       "    </tr>\n",
       "  </thead>\n",
       "  <tbody>\n",
       "    <tr>\n",
       "      <th>32690</th>\n",
       "      <td>1</td>\n",
       "      <td>S100001151551079987</td>\n",
       "      <td>4</td>\n",
       "      <td>249.38</td>\n",
       "      <td>62.35</td>\n",
       "    </tr>\n",
       "    <tr>\n",
       "      <th>93535</th>\n",
       "      <td>2</td>\n",
       "      <td>S100001151551079987</td>\n",
       "      <td>8</td>\n",
       "      <td>356.94</td>\n",
       "      <td>44.62</td>\n",
       "    </tr>\n",
       "    <tr>\n",
       "      <th>178457</th>\n",
       "      <td>3</td>\n",
       "      <td>S100001151551079987</td>\n",
       "      <td>5</td>\n",
       "      <td>265.85</td>\n",
       "      <td>53.17</td>\n",
       "    </tr>\n",
       "    <tr>\n",
       "      <th>290952</th>\n",
       "      <td>4</td>\n",
       "      <td>S100001151551079987</td>\n",
       "      <td>4</td>\n",
       "      <td>129.12</td>\n",
       "      <td>32.28</td>\n",
       "    </tr>\n",
       "    <tr>\n",
       "      <th>424609</th>\n",
       "      <td>5</td>\n",
       "      <td>S100001151551079987</td>\n",
       "      <td>7</td>\n",
       "      <td>310.10</td>\n",
       "      <td>44.30</td>\n",
       "    </tr>\n",
       "  </tbody>\n",
       "</table>\n",
       "</div>"
      ],
      "text/plain": [
       "        Jc              rtrcode  Count  Sales  throughput\n",
       "32690    1  S100001151551079987      4 249.38       62.35\n",
       "93535    2  S100001151551079987      8 356.94       44.62\n",
       "178457   3  S100001151551079987      5 265.85       53.17\n",
       "290952   4  S100001151551079987      4 129.12       32.28\n",
       "424609   5  S100001151551079987      7 310.10       44.30"
      ]
     },
     "execution_count": 124,
     "metadata": {},
     "output_type": "execute_result"
    }
   ],
   "source": [
    "testcase_throughput = data.groupby([\"Jc\",\"rtrcode\"]).agg(Count = (\"rtrcode\",\"count\"),Sales = (\"basevalue\",\"sum\")).reset_index()\n",
    "testcase_throughput[\"Sales\"] = testcase_throughput[\"Sales\"] * 100000\n",
    "testcase_throughput[\"throughput\"] = testcase_throughput[\"Sales\"]/testcase_throughput[\"Count\"]\n",
    "testcase_throughput[testcase_throughput[\"rtrcode\"] == \"S100001151551079987\"]"
   ]
  },
  {
   "cell_type": "markdown",
   "metadata": {},
   "source": [
    "# Testcase for active retailers for JC 4 5 6"
   ]
  },
  {
   "cell_type": "code",
   "execution_count": 128,
   "metadata": {},
   "outputs": [],
   "source": [
    "# data4.merge(data5,how = \"inner\", on = \"rtrcode\").merge(data6,how = \"inner\",on = \"rtrcode\")"
   ]
  },
  {
   "cell_type": "raw",
   "metadata": {},
   "source": [
    "data1[\"rtrcode\"].nunique()"
   ]
  },
  {
   "cell_type": "markdown",
   "metadata": {},
   "source": [
    "# Test Case for Consolidated Graph"
   ]
  },
  {
   "cell_type": "code",
   "execution_count": 152,
   "metadata": {},
   "outputs": [
    {
     "data": {
      "text/html": [
       "<div>\n",
       "<style scoped>\n",
       "    .dataframe tbody tr th:only-of-type {\n",
       "        vertical-align: middle;\n",
       "    }\n",
       "\n",
       "    .dataframe tbody tr th {\n",
       "        vertical-align: top;\n",
       "    }\n",
       "\n",
       "    .dataframe thead th {\n",
       "        text-align: right;\n",
       "    }\n",
       "</style>\n",
       "<table border=\"1\" class=\"dataframe\">\n",
       "  <thead>\n",
       "    <tr style=\"text-align: right;\">\n",
       "      <th></th>\n",
       "      <th>Jc</th>\n",
       "      <th>Sum_of_Sales</th>\n",
       "    </tr>\n",
       "  </thead>\n",
       "  <tbody>\n",
       "    <tr>\n",
       "      <th>0</th>\n",
       "      <td>1</td>\n",
       "      <td>406,175,488.70</td>\n",
       "    </tr>\n",
       "    <tr>\n",
       "      <th>1</th>\n",
       "      <td>2</td>\n",
       "      <td>679,260,494.25</td>\n",
       "    </tr>\n",
       "    <tr>\n",
       "      <th>2</th>\n",
       "      <td>3</td>\n",
       "      <td>1,152,103,145.37</td>\n",
       "    </tr>\n",
       "    <tr>\n",
       "      <th>3</th>\n",
       "      <td>4</td>\n",
       "      <td>967,561,156.66</td>\n",
       "    </tr>\n",
       "    <tr>\n",
       "      <th>4</th>\n",
       "      <td>5</td>\n",
       "      <td>825,920,410.71</td>\n",
       "    </tr>\n",
       "    <tr>\n",
       "      <th>5</th>\n",
       "      <td>6</td>\n",
       "      <td>888,850,187.17</td>\n",
       "    </tr>\n",
       "  </tbody>\n",
       "</table>\n",
       "</div>"
      ],
      "text/plain": [
       "   Jc     Sum_of_Sales\n",
       "0   1   406,175,488.70\n",
       "1   2   679,260,494.25\n",
       "2   3 1,152,103,145.37\n",
       "3   4   967,561,156.66\n",
       "4   5   825,920,410.71\n",
       "5   6   888,850,187.17"
      ]
     },
     "execution_count": 152,
     "metadata": {},
     "output_type": "execute_result"
    }
   ],
   "source": [
    "sales_sum = data.groupby([\"Jc\"]).agg(Sum_of_Sales = (\"basevalue\",\"sum\")).reset_index()\n",
    "sales_sum.Sum_of_Sales = sales_sum.Sum_of_Sales * 100000\n",
    "sales_sum"
   ]
  },
  {
   "cell_type": "code",
   "execution_count": 12,
   "metadata": {},
   "outputs": [
    {
     "data": {
      "text/html": [
       "<div>\n",
       "<style scoped>\n",
       "    .dataframe tbody tr th:only-of-type {\n",
       "        vertical-align: middle;\n",
       "    }\n",
       "\n",
       "    .dataframe tbody tr th {\n",
       "        vertical-align: top;\n",
       "    }\n",
       "\n",
       "    .dataframe thead th {\n",
       "        text-align: right;\n",
       "    }\n",
       "</style>\n",
       "<table border=\"1\" class=\"dataframe\">\n",
       "  <thead>\n",
       "    <tr style=\"text-align: right;\">\n",
       "      <th></th>\n",
       "      <th>Jc</th>\n",
       "      <th>Count_of_rtrcode</th>\n",
       "    </tr>\n",
       "  </thead>\n",
       "  <tbody>\n",
       "    <tr>\n",
       "      <th>0</th>\n",
       "      <td>1</td>\n",
       "      <td>38525</td>\n",
       "    </tr>\n",
       "    <tr>\n",
       "      <th>1</th>\n",
       "      <td>2</td>\n",
       "      <td>63115</td>\n",
       "    </tr>\n",
       "    <tr>\n",
       "      <th>2</th>\n",
       "      <td>3</td>\n",
       "      <td>86089</td>\n",
       "    </tr>\n",
       "    <tr>\n",
       "      <th>3</th>\n",
       "      <td>4</td>\n",
       "      <td>113259</td>\n",
       "    </tr>\n",
       "    <tr>\n",
       "      <th>4</th>\n",
       "      <td>5</td>\n",
       "      <td>133591</td>\n",
       "    </tr>\n",
       "    <tr>\n",
       "      <th>5</th>\n",
       "      <td>6</td>\n",
       "      <td>145103</td>\n",
       "    </tr>\n",
       "  </tbody>\n",
       "</table>\n",
       "</div>"
      ],
      "text/plain": [
       "   Jc  Count_of_rtrcode\n",
       "0   1             38525\n",
       "1   2             63115\n",
       "2   3             86089\n",
       "3   4            113259\n",
       "4   5            133591\n",
       "5   6            145103"
      ]
     },
     "execution_count": 12,
     "metadata": {},
     "output_type": "execute_result"
    }
   ],
   "source": [
    "rtrcode_count = data.groupby([\"Jc\"]).agg(\n",
    "  Count_of_rtrcode = (\"rtrcode\", \"nunique\")\n",
    ").reset_index()\n",
    "rtrcode_count"
   ]
  },
  {
   "cell_type": "code",
   "execution_count": 157,
   "metadata": {},
   "outputs": [
    {
     "data": {
      "text/html": [
       "<div>\n",
       "<style scoped>\n",
       "    .dataframe tbody tr th:only-of-type {\n",
       "        vertical-align: middle;\n",
       "    }\n",
       "\n",
       "    .dataframe tbody tr th {\n",
       "        vertical-align: top;\n",
       "    }\n",
       "\n",
       "    .dataframe thead th {\n",
       "        text-align: right;\n",
       "    }\n",
       "</style>\n",
       "<table border=\"1\" class=\"dataframe\">\n",
       "  <thead>\n",
       "    <tr style=\"text-align: right;\">\n",
       "      <th></th>\n",
       "      <th>Jc</th>\n",
       "      <th>Sum_of_Sales</th>\n",
       "      <th>Count_of_rtrcode</th>\n",
       "      <th>throughp_put</th>\n",
       "    </tr>\n",
       "  </thead>\n",
       "  <tbody>\n",
       "    <tr>\n",
       "      <th>0</th>\n",
       "      <td>1</td>\n",
       "      <td>406,175,488.70</td>\n",
       "      <td>38525</td>\n",
       "      <td>10,543.17</td>\n",
       "    </tr>\n",
       "    <tr>\n",
       "      <th>1</th>\n",
       "      <td>2</td>\n",
       "      <td>679,260,494.25</td>\n",
       "      <td>63115</td>\n",
       "      <td>10,762.27</td>\n",
       "    </tr>\n",
       "    <tr>\n",
       "      <th>2</th>\n",
       "      <td>3</td>\n",
       "      <td>1,152,103,145.37</td>\n",
       "      <td>86089</td>\n",
       "      <td>13,382.70</td>\n",
       "    </tr>\n",
       "    <tr>\n",
       "      <th>3</th>\n",
       "      <td>4</td>\n",
       "      <td>967,561,156.66</td>\n",
       "      <td>113259</td>\n",
       "      <td>8,542.91</td>\n",
       "    </tr>\n",
       "    <tr>\n",
       "      <th>4</th>\n",
       "      <td>5</td>\n",
       "      <td>825,920,410.71</td>\n",
       "      <td>133591</td>\n",
       "      <td>6,182.46</td>\n",
       "    </tr>\n",
       "    <tr>\n",
       "      <th>5</th>\n",
       "      <td>6</td>\n",
       "      <td>888,850,187.17</td>\n",
       "      <td>145103</td>\n",
       "      <td>6,125.65</td>\n",
       "    </tr>\n",
       "  </tbody>\n",
       "</table>\n",
       "</div>"
      ],
      "text/plain": [
       "   Jc     Sum_of_Sales  Count_of_rtrcode  throughp_put\n",
       "0   1   406,175,488.70             38525     10,543.17\n",
       "1   2   679,260,494.25             63115     10,762.27\n",
       "2   3 1,152,103,145.37             86089     13,382.70\n",
       "3   4   967,561,156.66            113259      8,542.91\n",
       "4   5   825,920,410.71            133591      6,182.46\n",
       "5   6   888,850,187.17            145103      6,125.65"
      ]
     },
     "execution_count": 157,
     "metadata": {},
     "output_type": "execute_result"
    }
   ],
   "source": [
    "thruput_data = pd.merge(sales_sum,rtrcode_count,on = \"Jc\")\n",
    "thruput_data[\"throughp_put\"] = thruput_data[\"Sum_of_Sales\"] / thruput_data.Count_of_rtrcode\n",
    "thruput_data"
   ]
  },
  {
   "cell_type": "markdown",
   "metadata": {},
   "source": [
    "# Test Case for random Goa Chik sales"
   ]
  },
  {
   "cell_type": "code",
   "execution_count": 127,
   "metadata": {},
   "outputs": [],
   "source": [
    "temp3 = geodata[geodata[\"statename\"] == \"GOA\"]"
   ]
  },
  {
   "cell_type": "code",
   "execution_count": 128,
   "metadata": {},
   "outputs": [],
   "source": [
    "temp = product_hierarchy[product_hierarchy.BrdPk == \"Chik Sachet Rs.1\"]['PrdCode'].unique()"
   ]
  },
  {
   "cell_type": "code",
   "execution_count": 129,
   "metadata": {},
   "outputs": [],
   "source": [
    "temp2 = retailer_latest[retailer_latest.New_Category == \"PC-KIRANA/GENERAL STORES\"][\"rtrcode\"].unique()"
   ]
  },
  {
   "cell_type": "code",
   "execution_count": 13,
   "metadata": {},
   "outputs": [],
   "source": [
    "# temp3 = geodata[geodata[\"statename\"] == \"ANDHRA PRADESH\"][\"distcode\"]"
   ]
  },
  {
   "cell_type": "code",
   "execution_count": 130,
   "metadata": {},
   "outputs": [],
   "source": [
    "goa_1 =  data[data.distcode.isin(temp3) &\n",
    "            data.prdcode.isin(temp) &\n",
    "            data.rtrcode.isin(temp2) &\n",
    "             data.Jc.isin([1,2,3,4,5,6])]"
   ]
  },
  {
   "cell_type": "code",
   "execution_count": 137,
   "metadata": {},
   "outputs": [
    {
     "data": {
      "text/html": [
       "<div>\n",
       "<style scoped>\n",
       "    .dataframe tbody tr th:only-of-type {\n",
       "        vertical-align: middle;\n",
       "    }\n",
       "\n",
       "    .dataframe tbody tr th {\n",
       "        vertical-align: top;\n",
       "    }\n",
       "\n",
       "    .dataframe thead th {\n",
       "        text-align: right;\n",
       "    }\n",
       "</style>\n",
       "<table border=\"1\" class=\"dataframe\">\n",
       "  <thead>\n",
       "    <tr style=\"text-align: right;\">\n",
       "      <th></th>\n",
       "      <th>distcode</th>\n",
       "      <th>statename</th>\n",
       "      <th>rtrcode</th>\n",
       "      <th>category</th>\n",
       "      <th>prdcode</th>\n",
       "      <th>cusname</th>\n",
       "      <th>cusgroname</th>\n",
       "      <th>billno</th>\n",
       "      <th>invdate</th>\n",
       "      <th>totqty</th>\n",
       "      <th>basevalue</th>\n",
       "      <th>div</th>\n",
       "      <th>Jc</th>\n",
       "      <th>Week</th>\n",
       "    </tr>\n",
       "  </thead>\n",
       "  <tbody>\n",
       "    <tr>\n",
       "      <th>0</th>\n",
       "      <td>GT0100020000730002000073</td>\n",
       "      <td>TAMIL NADU</td>\n",
       "      <td>GT0100020000730002000073-SLM0011561807093</td>\n",
       "      <td>PC-WHOLESALE</td>\n",
       "      <td>KH05D8HWP02R</td>\n",
       "      <td>SRI ARUNAI AGENCY - TIRUVANNAMALAI</td>\n",
       "      <td>Regular RS</td>\n",
       "      <td>BIL1901499</td>\n",
       "      <td>2019-10-16</td>\n",
       "      <td>20</td>\n",
       "      <td>0.0001384</td>\n",
       "      <td>PC</td>\n",
       "      <td>8</td>\n",
       "      <td>29</td>\n",
       "    </tr>\n",
       "    <tr>\n",
       "      <th>1</th>\n",
       "      <td>GT0100020000730002000073</td>\n",
       "      <td>TAMIL NADU</td>\n",
       "      <td>GT0100020000730002000073-SLM0011561807093</td>\n",
       "      <td>PC-WHOLESALE</td>\n",
       "      <td>KS05D4DRS03S</td>\n",
       "      <td>SRI ARUNAI AGENCY - TIRUVANNAMALAI</td>\n",
       "      <td>Regular RS</td>\n",
       "      <td>BIL1901499</td>\n",
       "      <td>2019-10-16</td>\n",
       "      <td>20</td>\n",
       "      <td>0.0001398</td>\n",
       "      <td>PC</td>\n",
       "      <td>8</td>\n",
       "      <td>29</td>\n",
       "    </tr>\n",
       "    <tr>\n",
       "      <th>2</th>\n",
       "      <td>GT0100020000730002000073</td>\n",
       "      <td>TAMIL NADU</td>\n",
       "      <td>GT0100020000730002000073-SLM0011561807093</td>\n",
       "      <td>PC-WHOLESALE</td>\n",
       "      <td>KS05D4HFS02S</td>\n",
       "      <td>SRI ARUNAI AGENCY - TIRUVANNAMALAI</td>\n",
       "      <td>Regular RS</td>\n",
       "      <td>BIL1901499</td>\n",
       "      <td>2019-10-16</td>\n",
       "      <td>20</td>\n",
       "      <td>0.0001310</td>\n",
       "      <td>PC</td>\n",
       "      <td>8</td>\n",
       "      <td>29</td>\n",
       "    </tr>\n",
       "    <tr>\n",
       "      <th>3</th>\n",
       "      <td>GT0100020000730002000073</td>\n",
       "      <td>TAMIL NADU</td>\n",
       "      <td>GT0100020000730002000073-SLM0011561807093</td>\n",
       "      <td>PC-WHOLESALE</td>\n",
       "      <td>MH05D6HWP02R</td>\n",
       "      <td>SRI ARUNAI AGENCY - TIRUVANNAMALAI</td>\n",
       "      <td>Regular RS</td>\n",
       "      <td>BIL1901499</td>\n",
       "      <td>2019-10-16</td>\n",
       "      <td>15</td>\n",
       "      <td>0.0004361</td>\n",
       "      <td>PC</td>\n",
       "      <td>8</td>\n",
       "      <td>29</td>\n",
       "    </tr>\n",
       "    <tr>\n",
       "      <th>4</th>\n",
       "      <td>GT0100020000730002000073</td>\n",
       "      <td>TAMIL NADU</td>\n",
       "      <td>GT0100020000730002000073-SLM0011561807093</td>\n",
       "      <td>PC-WHOLESALE</td>\n",
       "      <td>MS05D8HFC02S</td>\n",
       "      <td>SRI ARUNAI AGENCY - TIRUVANNAMALAI</td>\n",
       "      <td>Regular RS</td>\n",
       "      <td>BIL1901499</td>\n",
       "      <td>2019-10-16</td>\n",
       "      <td>16</td>\n",
       "      <td>0.0003060</td>\n",
       "      <td>PC</td>\n",
       "      <td>8</td>\n",
       "      <td>29</td>\n",
       "    </tr>\n",
       "    <tr>\n",
       "      <th>...</th>\n",
       "      <td>...</td>\n",
       "      <td>...</td>\n",
       "      <td>...</td>\n",
       "      <td>...</td>\n",
       "      <td>...</td>\n",
       "      <td>...</td>\n",
       "      <td>...</td>\n",
       "      <td>...</td>\n",
       "      <td>...</td>\n",
       "      <td>...</td>\n",
       "      <td>...</td>\n",
       "      <td>...</td>\n",
       "      <td>...</td>\n",
       "      <td>...</td>\n",
       "    </tr>\n",
       "    <tr>\n",
       "      <th>928794</th>\n",
       "      <td>MT0600032002180003200218</td>\n",
       "      <td>WEST BENGAL</td>\n",
       "      <td>MRET00020</td>\n",
       "      <td>BIGBASKET</td>\n",
       "      <td>CJBF0150BMK01R</td>\n",
       "      <td>TRIVENI ENTERPRISES</td>\n",
       "      <td>Key A/c Distributor</td>\n",
       "      <td>BIL1900115</td>\n",
       "      <td>2019-10-28</td>\n",
       "      <td>6</td>\n",
       "      <td>0.0077482</td>\n",
       "      <td>CY</td>\n",
       "      <td>8</td>\n",
       "      <td>31</td>\n",
       "    </tr>\n",
       "    <tr>\n",
       "      <th>928795</th>\n",
       "      <td>MT0600032002180003200218</td>\n",
       "      <td>WEST BENGAL</td>\n",
       "      <td>MRET00020</td>\n",
       "      <td>BIGBASKET</td>\n",
       "      <td>CJBM0150WMK01R</td>\n",
       "      <td>TRIVENI ENTERPRISES</td>\n",
       "      <td>Key A/c Distributor</td>\n",
       "      <td>BIL1900115</td>\n",
       "      <td>2019-10-28</td>\n",
       "      <td>6</td>\n",
       "      <td>0.0077482</td>\n",
       "      <td>CY</td>\n",
       "      <td>8</td>\n",
       "      <td>31</td>\n",
       "    </tr>\n",
       "    <tr>\n",
       "      <th>928796</th>\n",
       "      <td>GT0100020070830002007083</td>\n",
       "      <td>PONDICHERRY</td>\n",
       "      <td>S100000891551772330</td>\n",
       "      <td>PC-KIRANA/GENERAL STORES</td>\n",
       "      <td>NN0008SYR01R</td>\n",
       "      <td>K L GROUPS - PONDICHERRY</td>\n",
       "      <td>Regular RS</td>\n",
       "      <td>GSTR1900390</td>\n",
       "      <td>2019-10-28</td>\n",
       "      <td>-48</td>\n",
       "      <td>-0.0015989</td>\n",
       "      <td>CY</td>\n",
       "      <td>8</td>\n",
       "      <td>31</td>\n",
       "    </tr>\n",
       "    <tr>\n",
       "      <th>928797</th>\n",
       "      <td>GT0100020070830002007083</td>\n",
       "      <td>PONDICHERRY</td>\n",
       "      <td>S100000931557214119</td>\n",
       "      <td>PC-KIRANA/GENERAL STORES</td>\n",
       "      <td>NN0008SYR01R</td>\n",
       "      <td>K L GROUPS - PONDICHERRY</td>\n",
       "      <td>Regular RS</td>\n",
       "      <td>GSTR1900398</td>\n",
       "      <td>2019-10-28</td>\n",
       "      <td>-48</td>\n",
       "      <td>-0.0015989</td>\n",
       "      <td>CY</td>\n",
       "      <td>8</td>\n",
       "      <td>31</td>\n",
       "    </tr>\n",
       "    <tr>\n",
       "      <th>928798</th>\n",
       "      <td>GT0100020070830002007083</td>\n",
       "      <td>PONDICHERRY</td>\n",
       "      <td>S100000921561011268</td>\n",
       "      <td>PC-KIRANA/GENERAL STORES</td>\n",
       "      <td>NN0008SYR01R</td>\n",
       "      <td>K L GROUPS - PONDICHERRY</td>\n",
       "      <td>Regular RS</td>\n",
       "      <td>GSTR1900402</td>\n",
       "      <td>2019-10-28</td>\n",
       "      <td>-48</td>\n",
       "      <td>-0.0015989</td>\n",
       "      <td>CY</td>\n",
       "      <td>8</td>\n",
       "      <td>31</td>\n",
       "    </tr>\n",
       "  </tbody>\n",
       "</table>\n",
       "<p>928799 rows × 14 columns</p>\n",
       "</div>"
      ],
      "text/plain": [
       "                        distcode    statename  \\\n",
       "0       GT0100020000730002000073   TAMIL NADU   \n",
       "1       GT0100020000730002000073   TAMIL NADU   \n",
       "2       GT0100020000730002000073   TAMIL NADU   \n",
       "3       GT0100020000730002000073   TAMIL NADU   \n",
       "4       GT0100020000730002000073   TAMIL NADU   \n",
       "...                          ...          ...   \n",
       "928794  MT0600032002180003200218  WEST BENGAL   \n",
       "928795  MT0600032002180003200218  WEST BENGAL   \n",
       "928796  GT0100020070830002007083  PONDICHERRY   \n",
       "928797  GT0100020070830002007083  PONDICHERRY   \n",
       "928798  GT0100020070830002007083  PONDICHERRY   \n",
       "\n",
       "                                          rtrcode                  category  \\\n",
       "0       GT0100020000730002000073-SLM0011561807093              PC-WHOLESALE   \n",
       "1       GT0100020000730002000073-SLM0011561807093              PC-WHOLESALE   \n",
       "2       GT0100020000730002000073-SLM0011561807093              PC-WHOLESALE   \n",
       "3       GT0100020000730002000073-SLM0011561807093              PC-WHOLESALE   \n",
       "4       GT0100020000730002000073-SLM0011561807093              PC-WHOLESALE   \n",
       "...                                           ...                       ...   \n",
       "928794                                  MRET00020                 BIGBASKET   \n",
       "928795                                  MRET00020                 BIGBASKET   \n",
       "928796                        S100000891551772330  PC-KIRANA/GENERAL STORES   \n",
       "928797                        S100000931557214119  PC-KIRANA/GENERAL STORES   \n",
       "928798                        S100000921561011268  PC-KIRANA/GENERAL STORES   \n",
       "\n",
       "               prdcode                             cusname  \\\n",
       "0         KH05D8HWP02R  SRI ARUNAI AGENCY - TIRUVANNAMALAI   \n",
       "1         KS05D4DRS03S  SRI ARUNAI AGENCY - TIRUVANNAMALAI   \n",
       "2         KS05D4HFS02S  SRI ARUNAI AGENCY - TIRUVANNAMALAI   \n",
       "3         MH05D6HWP02R  SRI ARUNAI AGENCY - TIRUVANNAMALAI   \n",
       "4         MS05D8HFC02S  SRI ARUNAI AGENCY - TIRUVANNAMALAI   \n",
       "...                ...                                 ...   \n",
       "928794  CJBF0150BMK01R                 TRIVENI ENTERPRISES   \n",
       "928795  CJBM0150WMK01R                 TRIVENI ENTERPRISES   \n",
       "928796    NN0008SYR01R            K L GROUPS - PONDICHERRY   \n",
       "928797    NN0008SYR01R            K L GROUPS - PONDICHERRY   \n",
       "928798    NN0008SYR01R            K L GROUPS - PONDICHERRY   \n",
       "\n",
       "                 cusgroname       billno    invdate  totqty  basevalue div  \\\n",
       "0                Regular RS   BIL1901499 2019-10-16      20  0.0001384  PC   \n",
       "1                Regular RS   BIL1901499 2019-10-16      20  0.0001398  PC   \n",
       "2                Regular RS   BIL1901499 2019-10-16      20  0.0001310  PC   \n",
       "3                Regular RS   BIL1901499 2019-10-16      15  0.0004361  PC   \n",
       "4                Regular RS   BIL1901499 2019-10-16      16  0.0003060  PC   \n",
       "...                     ...          ...        ...     ...        ...  ..   \n",
       "928794  Key A/c Distributor   BIL1900115 2019-10-28       6  0.0077482  CY   \n",
       "928795  Key A/c Distributor   BIL1900115 2019-10-28       6  0.0077482  CY   \n",
       "928796           Regular RS  GSTR1900390 2019-10-28     -48 -0.0015989  CY   \n",
       "928797           Regular RS  GSTR1900398 2019-10-28     -48 -0.0015989  CY   \n",
       "928798           Regular RS  GSTR1900402 2019-10-28     -48 -0.0015989  CY   \n",
       "\n",
       "        Jc  Week  \n",
       "0        8    29  \n",
       "1        8    29  \n",
       "2        8    29  \n",
       "3        8    29  \n",
       "4        8    29  \n",
       "...     ..   ...  \n",
       "928794   8    31  \n",
       "928795   8    31  \n",
       "928796   8    31  \n",
       "928797   8    31  \n",
       "928798   8    31  \n",
       "\n",
       "[928799 rows x 14 columns]"
      ]
     },
     "execution_count": 137,
     "metadata": {},
     "output_type": "execute_result"
    }
   ],
   "source": [
    "data"
   ]
  },
  {
   "cell_type": "code",
   "execution_count": 131,
   "metadata": {},
   "outputs": [
    {
     "data": {
      "text/plain": [
       "array([], dtype=int64)"
      ]
     },
     "execution_count": 131,
     "metadata": {},
     "output_type": "execute_result"
    }
   ],
   "source": [
    "goa_1.Jc.unique()"
   ]
  },
  {
   "cell_type": "code",
   "execution_count": 27,
   "metadata": {},
   "outputs": [],
   "source": [
    "andcheck = goa_1[[\"rtrcode\",\"Jc\"]]"
   ]
  },
  {
   "cell_type": "code",
   "execution_count": 35,
   "metadata": {},
   "outputs": [],
   "source": [
    "andcheck = andcheck[andcheck[\"Jc\"].isin([1,2])]"
   ]
  },
  {
   "cell_type": "code",
   "execution_count": 36,
   "metadata": {},
   "outputs": [],
   "source": [
    "andcheck.to_csv(\"D:\\\\Analytics\\\\Marketing Report\\\\Python code\\\\andhra.csv\",index = False)"
   ]
  },
  {
   "cell_type": "code",
   "execution_count": 202,
   "metadata": {},
   "outputs": [
    {
     "data": {
      "text/plain": [
       "Index(['statename', 'distcode', 'cusname', 'cusgroname', 'rtrid', 'rtrcode',\n",
       "       'rtrname', 'billno', 'invdate', 'brand', 'b.pack', 'prdcode', 'prdname',\n",
       "       'totqty', 'grossamt', 'taxableamt', 'netamt', 'basevalue', 'category',\n",
       "       'div', 'Jc', 'Week'],\n",
       "      dtype='object')"
      ]
     },
     "execution_count": 202,
     "metadata": {},
     "output_type": "execute_result"
    }
   ],
   "source": [
    "data.columns"
   ]
  },
  {
   "cell_type": "markdown",
   "metadata": {},
   "source": [
    "# SQL Connection"
   ]
  },
  {
   "cell_type": "code",
   "execution_count": 273,
   "metadata": {},
   "outputs": [],
   "source": [
    "import pyodbc "
   ]
  },
  {
   "cell_type": "code",
   "execution_count": 274,
   "metadata": {},
   "outputs": [],
   "source": [
    "connStr = (\"DRIVER={ODBC Driver 13 for SQL Server};\"\n",
    "           \"Server=DESKTOP-KGNPIA3\\SQLEXPRESS;\"\n",
    "           \"Database=sso_db;\"\n",
    "           \"Trusted_Connection=yes\")\n",
    "conn = pyodbc.connect(connStr)"
   ]
  },
  {
   "cell_type": "code",
   "execution_count": 275,
   "metadata": {},
   "outputs": [],
   "source": [
    "cursor = conn.cursor()\n",
    "for index,row in null_data.iterrows():\n",
    "    cursor.execute(\"INSERT INTO new_cleaned_data(statename,distcode,cusname,cusgroname,rtrid,rtrcode,rtrname,billno,invdate,brand,b_pack,prdcode,prdname,totqty,grossamt,taxableamt,netamt,basevalue,category,div,Jc,Week) values(?,?,?,?,?,?,?,?,?,?,?,?,?,?,?,?,?,?,?,?,?,?);\",\n",
    "                        row['statename'],\n",
    "                        row['distcode'],\n",
    "                        row['cusname'],\n",
    "                        row['cusgroname'],\n",
    "                        row['rtrid'],\n",
    "                        row['rtrcode'],\n",
    "                        row['rtrname'],\n",
    "                        row['billno'],\n",
    "                        row['invdate'],\n",
    "                        row['brand'],\n",
    "                        row['b.pack'],\n",
    "                        row['prdcode'],\n",
    "                        row['prdname'],\n",
    "                        row['totqty'],\n",
    "                        row['grossamt'],\n",
    "                        row['taxableamt'],\n",
    "                        row['netamt'],\n",
    "                        row['basevalue'],\n",
    "                        row['category'],\n",
    "                        row['div'],\n",
    "                        row['Jc'],\n",
    "                        row['Week'])\n",
    "\n",
    "    conn.commit()\n",
    "cursor.close()\n",
    "conn.close()"
   ]
  },
  {
   "cell_type": "code",
   "execution_count": 266,
   "metadata": {},
   "outputs": [
    {
     "data": {
      "text/html": [
       "<div>\n",
       "<style scoped>\n",
       "    .dataframe tbody tr th:only-of-type {\n",
       "        vertical-align: middle;\n",
       "    }\n",
       "\n",
       "    .dataframe tbody tr th {\n",
       "        vertical-align: top;\n",
       "    }\n",
       "\n",
       "    .dataframe thead th {\n",
       "        text-align: right;\n",
       "    }\n",
       "</style>\n",
       "<table border=\"1\" class=\"dataframe\">\n",
       "  <thead>\n",
       "    <tr style=\"text-align: right;\">\n",
       "      <th></th>\n",
       "      <th>statename</th>\n",
       "      <th>distcode</th>\n",
       "      <th>cusname</th>\n",
       "      <th>cusgroname</th>\n",
       "      <th>rtrid</th>\n",
       "      <th>rtrcode</th>\n",
       "      <th>rtrname</th>\n",
       "      <th>billno</th>\n",
       "      <th>invdate</th>\n",
       "      <th>brand</th>\n",
       "      <th>...</th>\n",
       "      <th>prdname</th>\n",
       "      <th>totqty</th>\n",
       "      <th>grossamt</th>\n",
       "      <th>taxableamt</th>\n",
       "      <th>netamt</th>\n",
       "      <th>basevalue</th>\n",
       "      <th>category</th>\n",
       "      <th>div</th>\n",
       "      <th>Jc</th>\n",
       "      <th>Week</th>\n",
       "    </tr>\n",
       "  </thead>\n",
       "  <tbody>\n",
       "    <tr>\n",
       "      <th>0</th>\n",
       "      <td>Null</td>\n",
       "      <td>CC0300020002680002000268</td>\n",
       "      <td>Null</td>\n",
       "      <td>Null</td>\n",
       "      <td>Null</td>\n",
       "      <td>DATA NOT FOUND</td>\n",
       "      <td>Data not found</td>\n",
       "      <td>Null</td>\n",
       "      <td>2019-11-01</td>\n",
       "      <td>Null</td>\n",
       "      <td>...</td>\n",
       "      <td>Null</td>\n",
       "      <td>216</td>\n",
       "      <td>0.2376000</td>\n",
       "      <td>0.0000000</td>\n",
       "      <td>0</td>\n",
       "      <td>0.2376000</td>\n",
       "      <td>KIRANA</td>\n",
       "      <td>CY</td>\n",
       "      <td>8</td>\n",
       "      <td>32</td>\n",
       "    </tr>\n",
       "    <tr>\n",
       "      <th>1</th>\n",
       "      <td>Null</td>\n",
       "      <td>CC0300020002680002000268</td>\n",
       "      <td>Null</td>\n",
       "      <td>Null</td>\n",
       "      <td>Null</td>\n",
       "      <td>DATA NOT FOUND</td>\n",
       "      <td>Data not found</td>\n",
       "      <td>Null</td>\n",
       "      <td>2019-11-01</td>\n",
       "      <td>Null</td>\n",
       "      <td>...</td>\n",
       "      <td>Null</td>\n",
       "      <td>3672</td>\n",
       "      <td>1.1056392</td>\n",
       "      <td>0.0000000</td>\n",
       "      <td>0</td>\n",
       "      <td>1.1056392</td>\n",
       "      <td>KIRANA</td>\n",
       "      <td>PC</td>\n",
       "      <td>8</td>\n",
       "      <td>32</td>\n",
       "    </tr>\n",
       "  </tbody>\n",
       "</table>\n",
       "<p>2 rows × 22 columns</p>\n",
       "</div>"
      ],
      "text/plain": [
       "  statename                  distcode cusname cusgroname rtrid  \\\n",
       "0      Null  CC0300020002680002000268    Null       Null  Null   \n",
       "1      Null  CC0300020002680002000268    Null       Null  Null   \n",
       "\n",
       "          rtrcode         rtrname billno    invdate brand  ... prdname totqty  \\\n",
       "0  DATA NOT FOUND  Data not found   Null 2019-11-01  Null  ...    Null    216   \n",
       "1  DATA NOT FOUND  Data not found   Null 2019-11-01  Null  ...    Null   3672   \n",
       "\n",
       "   grossamt  taxableamt  netamt  basevalue  category  div Jc Week  \n",
       "0 0.2376000   0.0000000       0  0.2376000    KIRANA   CY  8   32  \n",
       "1 1.1056392   0.0000000       0  1.1056392    KIRANA   PC  8   32  \n",
       "\n",
       "[2 rows x 22 columns]"
      ]
     },
     "execution_count": 266,
     "metadata": {},
     "output_type": "execute_result"
    }
   ],
   "source": [
    "null_data.head(2)"
   ]
  },
  {
   "cell_type": "code",
   "execution_count": 265,
   "metadata": {},
   "outputs": [],
   "source": [
    "null_data[\"rtrid\"] = \"Null\""
   ]
  },
  {
   "cell_type": "code",
   "execution_count": 271,
   "metadata": {},
   "outputs": [],
   "source": [
    "null_data[\"invdate\"] = null_data.invdate.astype(str)"
   ]
  },
  {
   "cell_type": "code",
   "execution_count": 272,
   "metadata": {},
   "outputs": [
    {
     "data": {
      "text/plain": [
       "statename      object\n",
       "distcode       object\n",
       "cusname        object\n",
       "cusgroname     object\n",
       "rtrid          object\n",
       "rtrcode        object\n",
       "rtrname        object\n",
       "billno         object\n",
       "invdate        object\n",
       "brand          object\n",
       "b.pack         object\n",
       "prdcode        object\n",
       "prdname        object\n",
       "totqty          int64\n",
       "grossamt      float64\n",
       "taxableamt    float64\n",
       "netamt          int64\n",
       "basevalue     float64\n",
       "category       object\n",
       "div            object\n",
       "Jc              int64\n",
       "Week            int64\n",
       "dtype: object"
      ]
     },
     "execution_count": 272,
     "metadata": {},
     "output_type": "execute_result"
    }
   ],
   "source": [
    "null_data.dtypes"
   ]
  },
  {
   "cell_type": "code",
   "execution_count": 280,
   "metadata": {},
   "outputs": [
    {
     "data": {
      "text/html": [
       "<div>\n",
       "<style scoped>\n",
       "    .dataframe tbody tr th:only-of-type {\n",
       "        vertical-align: middle;\n",
       "    }\n",
       "\n",
       "    .dataframe tbody tr th {\n",
       "        vertical-align: top;\n",
       "    }\n",
       "\n",
       "    .dataframe thead th {\n",
       "        text-align: right;\n",
       "    }\n",
       "</style>\n",
       "<table border=\"1\" class=\"dataframe\">\n",
       "  <thead>\n",
       "    <tr style=\"text-align: right;\">\n",
       "      <th></th>\n",
       "      <th></th>\n",
       "      <th>count</th>\n",
       "    </tr>\n",
       "    <tr>\n",
       "      <th>rtrcode</th>\n",
       "      <th>category</th>\n",
       "      <th></th>\n",
       "    </tr>\n",
       "  </thead>\n",
       "  <tbody>\n",
       "    <tr>\n",
       "      <th>55</th>\n",
       "      <th>KIRANA</th>\n",
       "      <td>40</td>\n",
       "    </tr>\n",
       "    <tr>\n",
       "      <th>60</th>\n",
       "      <th>KIRANA</th>\n",
       "      <td>40</td>\n",
       "    </tr>\n",
       "    <tr>\n",
       "      <th rowspan=\"2\" valign=\"top\">203</th>\n",
       "      <th>KIRANA</th>\n",
       "      <td>119</td>\n",
       "    </tr>\n",
       "    <tr>\n",
       "      <th>NILGIRIS</th>\n",
       "      <td>11</td>\n",
       "    </tr>\n",
       "    <tr>\n",
       "      <th>204</th>\n",
       "      <th>KIRANA</th>\n",
       "      <td>30</td>\n",
       "    </tr>\n",
       "    <tr>\n",
       "      <th rowspan=\"2\" valign=\"top\">208</th>\n",
       "      <th>KIRANA</th>\n",
       "      <td>180</td>\n",
       "    </tr>\n",
       "    <tr>\n",
       "      <th>NILGIRIS</th>\n",
       "      <td>44</td>\n",
       "    </tr>\n",
       "    <tr>\n",
       "      <th rowspan=\"2\" valign=\"top\">209</th>\n",
       "      <th>KIRANA</th>\n",
       "      <td>51</td>\n",
       "    </tr>\n",
       "    <tr>\n",
       "      <th>NILGIRIS</th>\n",
       "      <td>13</td>\n",
       "    </tr>\n",
       "    <tr>\n",
       "      <th>211</th>\n",
       "      <th>KIRANA</th>\n",
       "      <td>61</td>\n",
       "    </tr>\n",
       "    <tr>\n",
       "      <th rowspan=\"2\" valign=\"top\">212</th>\n",
       "      <th>D MART</th>\n",
       "      <td>117</td>\n",
       "    </tr>\n",
       "    <tr>\n",
       "      <th>KIRANA</th>\n",
       "      <td>345</td>\n",
       "    </tr>\n",
       "    <tr>\n",
       "      <th rowspan=\"2\" valign=\"top\">8432</th>\n",
       "      <th>AVENUE SUPER MARTS LTD</th>\n",
       "      <td>75</td>\n",
       "    </tr>\n",
       "    <tr>\n",
       "      <th>KIRANA</th>\n",
       "      <td>186</td>\n",
       "    </tr>\n",
       "    <tr>\n",
       "      <th>124578</th>\n",
       "      <th>KIRANA</th>\n",
       "      <td>14</td>\n",
       "    </tr>\n",
       "    <tr>\n",
       "      <th>1101083119-SLM0011556019401</th>\n",
       "      <th>RA-UNISEX</th>\n",
       "      <td>25</td>\n",
       "    </tr>\n",
       "    <tr>\n",
       "      <th>1101083119-SLM0011556024410</th>\n",
       "      <th>RA-LADIES SALOON</th>\n",
       "      <td>9</td>\n",
       "    </tr>\n",
       "    <tr>\n",
       "      <th>1101083119-SLM0011556271858</th>\n",
       "      <th>RA-LADIES SALOON</th>\n",
       "      <td>15</td>\n",
       "    </tr>\n",
       "    <tr>\n",
       "      <th>1101083119-SLM0011556367333</th>\n",
       "      <th>RA-LADIES SALOON</th>\n",
       "      <td>6</td>\n",
       "    </tr>\n",
       "    <tr>\n",
       "      <th>1101083119-SLM0011556370846</th>\n",
       "      <th>RA-LADIES SALOON</th>\n",
       "      <td>1</td>\n",
       "    </tr>\n",
       "  </tbody>\n",
       "</table>\n",
       "</div>"
      ],
      "text/plain": [
       "                                                    count\n",
       "rtrcode                     category                     \n",
       "55                          KIRANA                     40\n",
       "60                          KIRANA                     40\n",
       "203                         KIRANA                    119\n",
       "                            NILGIRIS                   11\n",
       "204                         KIRANA                     30\n",
       "208                         KIRANA                    180\n",
       "                            NILGIRIS                   44\n",
       "209                         KIRANA                     51\n",
       "                            NILGIRIS                   13\n",
       "211                         KIRANA                     61\n",
       "212                         D MART                    117\n",
       "                            KIRANA                    345\n",
       "8432                        AVENUE SUPER MARTS LTD     75\n",
       "                            KIRANA                    186\n",
       "124578                      KIRANA                     14\n",
       "1101083119-SLM0011556019401 RA-UNISEX                  25\n",
       "1101083119-SLM0011556024410 RA-LADIES SALOON            9\n",
       "1101083119-SLM0011556271858 RA-LADIES SALOON           15\n",
       "1101083119-SLM0011556367333 RA-LADIES SALOON            6\n",
       "1101083119-SLM0011556370846 RA-LADIES SALOON            1"
      ]
     },
     "execution_count": 280,
     "metadata": {},
     "output_type": "execute_result"
    }
   ],
   "source": [
    "data.groupby([\"rtrcode\",\"category\"]).agg(count = (\"rtrcode\",\"count\")).head(20)"
   ]
  },
  {
   "cell_type": "code",
   "execution_count": 282,
   "metadata": {},
   "outputs": [
    {
     "data": {
      "text/html": [
       "<div>\n",
       "<style scoped>\n",
       "    .dataframe tbody tr th:only-of-type {\n",
       "        vertical-align: middle;\n",
       "    }\n",
       "\n",
       "    .dataframe tbody tr th {\n",
       "        vertical-align: top;\n",
       "    }\n",
       "\n",
       "    .dataframe thead th {\n",
       "        text-align: right;\n",
       "    }\n",
       "</style>\n",
       "<table border=\"1\" class=\"dataframe\">\n",
       "  <thead>\n",
       "    <tr style=\"text-align: right;\">\n",
       "      <th></th>\n",
       "      <th>rtrcode</th>\n",
       "      <th>category</th>\n",
       "    </tr>\n",
       "  </thead>\n",
       "  <tbody>\n",
       "    <tr>\n",
       "      <th>0</th>\n",
       "      <td>MRET00079</td>\n",
       "      <td>KIRANA</td>\n",
       "    </tr>\n",
       "    <tr>\n",
       "      <th>1</th>\n",
       "      <td>SIPLV658</td>\n",
       "      <td>KIRANA</td>\n",
       "    </tr>\n",
       "    <tr>\n",
       "      <th>2</th>\n",
       "      <td>SIPLV658</td>\n",
       "      <td>KIRANA</td>\n",
       "    </tr>\n",
       "    <tr>\n",
       "      <th>3</th>\n",
       "      <td>SIPLV658</td>\n",
       "      <td>KIRANA</td>\n",
       "    </tr>\n",
       "    <tr>\n",
       "      <th>4</th>\n",
       "      <td>SIPLV658</td>\n",
       "      <td>KIRANA</td>\n",
       "    </tr>\n",
       "    <tr>\n",
       "      <th>...</th>\n",
       "      <td>...</td>\n",
       "      <td>...</td>\n",
       "    </tr>\n",
       "    <tr>\n",
       "      <th>8115</th>\n",
       "      <td>DATA NOT FOUND</td>\n",
       "      <td>KIRANA</td>\n",
       "    </tr>\n",
       "    <tr>\n",
       "      <th>8116</th>\n",
       "      <td>DATA NOT FOUND</td>\n",
       "      <td>KIRANA</td>\n",
       "    </tr>\n",
       "    <tr>\n",
       "      <th>8117</th>\n",
       "      <td>DATA NOT FOUND</td>\n",
       "      <td>KIRANA</td>\n",
       "    </tr>\n",
       "    <tr>\n",
       "      <th>8118</th>\n",
       "      <td>DATA NOT FOUND</td>\n",
       "      <td>KIRANA</td>\n",
       "    </tr>\n",
       "    <tr>\n",
       "      <th>8119</th>\n",
       "      <td>DATA NOT FOUND</td>\n",
       "      <td>KIRANA</td>\n",
       "    </tr>\n",
       "  </tbody>\n",
       "</table>\n",
       "<p>5999581 rows × 2 columns</p>\n",
       "</div>"
      ],
      "text/plain": [
       "             rtrcode category\n",
       "0          MRET00079   KIRANA\n",
       "1           SIPLV658   KIRANA\n",
       "2           SIPLV658   KIRANA\n",
       "3           SIPLV658   KIRANA\n",
       "4           SIPLV658   KIRANA\n",
       "...              ...      ...\n",
       "8115  DATA NOT FOUND   KIRANA\n",
       "8116  DATA NOT FOUND   KIRANA\n",
       "8117  DATA NOT FOUND   KIRANA\n",
       "8118  DATA NOT FOUND   KIRANA\n",
       "8119  DATA NOT FOUND   KIRANA\n",
       "\n",
       "[5999581 rows x 2 columns]"
      ]
     },
     "execution_count": 282,
     "metadata": {},
     "output_type": "execute_result"
    }
   ],
   "source": [
    "temp = data[[\"rtrcode\",\"category\"]]"
   ]
  },
  {
   "cell_type": "code",
   "execution_count": null,
   "metadata": {},
   "outputs": [],
   "source": []
  }
 ],
 "metadata": {
  "kernelspec": {
   "display_name": "Python 3",
   "language": "python",
   "name": "python3"
  },
  "language_info": {
   "codemirror_mode": {
    "name": "ipython",
    "version": 3
   },
   "file_extension": ".py",
   "mimetype": "text/x-python",
   "name": "python",
   "nbconvert_exporter": "python",
   "pygments_lexer": "ipython3",
   "version": "3.7.3"
  }
 },
 "nbformat": 4,
 "nbformat_minor": 2
}
