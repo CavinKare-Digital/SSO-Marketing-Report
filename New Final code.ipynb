{
 "cells": [
  {
   "cell_type": "code",
   "execution_count": 1,
   "metadata": {},
   "outputs": [],
   "source": [
    "import pandas as pd\n",
    "import numpy as np"
   ]
  },
  {
   "cell_type": "code",
   "execution_count": 2,
   "metadata": {},
   "outputs": [],
   "source": [
    "pd.options.mode.chained_assignment = None #for not showing warning message \n",
    "pd.options.display.float_format = '{:,.4f}'.format #for setting thhe float format to this notebook"
   ]
  },
  {
   "cell_type": "markdown",
   "metadata": {},
   "source": [
    "# Importing Master Table "
   ]
  },
  {
   "cell_type": "code",
   "execution_count": 3,
   "metadata": {},
   "outputs": [],
   "source": [
    "jccycle                   =      pd.read_excel(\"D:\\Analytics\\Marketing Report\\Journey Cycle\\Master Journey Cycle.xlsx\")\n",
    "product_hierarchy         =      pd.read_excel(\"D:\\Analytics\\Marketing Report\\FY 19-20\\Master Data\\Product Hierarchy.xlsx\")\n",
    "static_category_lookup    =      pd.read_excel(\"D:\\Analytics\\Marketing Report\\FY 19-20\\Master Data\\Static_Category_Lookup.xlsx\")"
   ]
  },
  {
   "cell_type": "markdown",
   "metadata": {},
   "source": [
    "# Importing JC Table"
   ]
  },
  {
   "cell_type": "code",
   "execution_count": 4,
   "metadata": {},
   "outputs": [],
   "source": [
    "# JC 9\n",
    "data9_keyac = pd.read_excel(\"D:\\Analytics\\Marketing Report\\FY 19-20\\JC 09\\JC09-Key Ac's.xlsb\",engine='pyxlsb')\n",
    "data9_nonsouth = pd.read_excel(\"D:\\Analytics\\Marketing Report\\FY 19-20\\JC 09\\JC09-Non South.xlsb\",engine = 'pyxlsb')\n",
    "data9_south = pd.read_excel(\"D:\\Analytics\\Marketing Report\\FY 19-20\\JC 09\\JC09-South.xlsb\",engine = 'pyxlsb')"
   ]
  },
  {
   "cell_type": "code",
   "execution_count": 59,
   "metadata": {},
   "outputs": [],
   "source": [
    "# temp1 = data9_keyac.isnull().sum().to_frame().reset_index()\n",
    "# temp1[temp1[0] != 0].reset_index()"
   ]
  },
  {
   "cell_type": "code",
   "execution_count": 60,
   "metadata": {},
   "outputs": [],
   "source": [
    "# temp2 = data9_nonsouth.isnull().sum().to_frame().reset_index()\n",
    "# temp2[temp2[0] != 0].reset_index()"
   ]
  },
  {
   "cell_type": "code",
   "execution_count": 61,
   "metadata": {},
   "outputs": [],
   "source": [
    "# temp3 = data9_south.isnull().sum().to_frame().reset_index()\n",
    "# temp3[temp3[0] != 0].reset_index()"
   ]
  },
  {
   "cell_type": "code",
   "execution_count": 5,
   "metadata": {},
   "outputs": [],
   "source": [
    "data9 =  data9_keyac.append(data9_nonsouth)\n",
    "data9 = data9.append(data9_south)"
   ]
  },
  {
   "cell_type": "code",
   "execution_count": 6,
   "metadata": {},
   "outputs": [
    {
     "data": {
      "text/html": [
       "<div>\n",
       "<style scoped>\n",
       "    .dataframe tbody tr th:only-of-type {\n",
       "        vertical-align: middle;\n",
       "    }\n",
       "\n",
       "    .dataframe tbody tr th {\n",
       "        vertical-align: top;\n",
       "    }\n",
       "\n",
       "    .dataframe thead th {\n",
       "        text-align: right;\n",
       "    }\n",
       "</style>\n",
       "<table border=\"1\" class=\"dataframe\">\n",
       "  <thead>\n",
       "    <tr style=\"text-align: right;\">\n",
       "      <th></th>\n",
       "      <th>index</th>\n",
       "      <th>0</th>\n",
       "    </tr>\n",
       "  </thead>\n",
       "  <tbody>\n",
       "    <tr>\n",
       "      <th>2</th>\n",
       "      <td>DistName</td>\n",
       "      <td>8052</td>\n",
       "    </tr>\n",
       "    <tr>\n",
       "      <th>3</th>\n",
       "      <td>DistType</td>\n",
       "      <td>8052</td>\n",
       "    </tr>\n",
       "    <tr>\n",
       "      <th>4</th>\n",
       "      <td>Rtrid</td>\n",
       "      <td>8052</td>\n",
       "    </tr>\n",
       "    <tr>\n",
       "      <th>5</th>\n",
       "      <td>RtrCode</td>\n",
       "      <td>11094</td>\n",
       "    </tr>\n",
       "    <tr>\n",
       "      <th>6</th>\n",
       "      <td>RtrName</td>\n",
       "      <td>11094</td>\n",
       "    </tr>\n",
       "    <tr>\n",
       "      <th>7</th>\n",
       "      <td>RtrGroupCde</td>\n",
       "      <td>11094</td>\n",
       "    </tr>\n",
       "    <tr>\n",
       "      <th>9</th>\n",
       "      <td>BillNo</td>\n",
       "      <td>8053</td>\n",
       "    </tr>\n",
       "    <tr>\n",
       "      <th>10</th>\n",
       "      <td>InvDate</td>\n",
       "      <td>8052</td>\n",
       "    </tr>\n",
       "    <tr>\n",
       "      <th>13</th>\n",
       "      <td>PrdName</td>\n",
       "      <td>8052</td>\n",
       "    </tr>\n",
       "    <tr>\n",
       "      <th>16</th>\n",
       "      <td>NetAmt</td>\n",
       "      <td>8052</td>\n",
       "    </tr>\n",
       "    <tr>\n",
       "      <th>17</th>\n",
       "      <td>BaseValue</td>\n",
       "      <td>8052</td>\n",
       "    </tr>\n",
       "  </tbody>\n",
       "</table>\n",
       "</div>"
      ],
      "text/plain": [
       "          index      0\n",
       "2      DistName   8052\n",
       "3      DistType   8052\n",
       "4         Rtrid   8052\n",
       "5       RtrCode  11094\n",
       "6       RtrName  11094\n",
       "7   RtrGroupCde  11094\n",
       "9        BillNo   8053\n",
       "10      InvDate   8052\n",
       "13      PrdName   8052\n",
       "16       NetAmt   8052\n",
       "17    BaseValue   8052"
      ]
     },
     "execution_count": 6,
     "metadata": {},
     "output_type": "execute_result"
    }
   ],
   "source": [
    "temp4 = data9.isnull().sum().to_frame().reset_index()\n",
    "temp4[temp4[0] != 0]"
   ]
  },
  {
   "cell_type": "code",
   "execution_count": 93,
   "metadata": {},
   "outputs": [
    {
     "data": {
      "text/plain": [
       "Index(['Distcode', 'RS CODE', 'DistName', 'DistType', 'Rtrid', 'RtrCode',\n",
       "       'RtrName', 'RtrGroupCde', 'RET GRP', 'BillNo', 'InvDate', 'PERIOD',\n",
       "       'PrdCode', 'PrdName_x', 'BRAND CAT', 'TotQty', 'NetAmt', 'BaseValue',\n",
       "       'In Lakhs', 'REGION', 'ZONE', 'PrdName_y', 'Brand', 'RB', 'Channel',\n",
       "       'Div', 'BrdCat', 'BrdPk', 'PowerSKU', 'Old_Category', 'New_Category'],\n",
       "      dtype='object')"
      ]
     },
     "execution_count": 93,
     "metadata": {},
     "output_type": "execute_result"
    }
   ],
   "source": [
    "data9.columns"
   ]
  },
  {
   "cell_type": "code",
   "execution_count": 35,
   "metadata": {},
   "outputs": [
    {
     "data": {
      "text/html": [
       "<div>\n",
       "<style scoped>\n",
       "    .dataframe tbody tr th:only-of-type {\n",
       "        vertical-align: middle;\n",
       "    }\n",
       "\n",
       "    .dataframe tbody tr th {\n",
       "        vertical-align: top;\n",
       "    }\n",
       "\n",
       "    .dataframe thead th {\n",
       "        text-align: right;\n",
       "    }\n",
       "</style>\n",
       "<table border=\"1\" class=\"dataframe\">\n",
       "  <thead>\n",
       "    <tr style=\"text-align: right;\">\n",
       "      <th></th>\n",
       "      <th>Distcode</th>\n",
       "      <th>RS CODE</th>\n",
       "      <th>DistName</th>\n",
       "      <th>DistType</th>\n",
       "      <th>Rtrid</th>\n",
       "      <th>RtrCode</th>\n",
       "      <th>RtrName</th>\n",
       "      <th>RtrGroupCde</th>\n",
       "      <th>RET GRP</th>\n",
       "      <th>BillNo</th>\n",
       "      <th>...</th>\n",
       "      <th>PERIOD</th>\n",
       "      <th>PrdCode</th>\n",
       "      <th>PrdName</th>\n",
       "      <th>BRAND CAT</th>\n",
       "      <th>TotQty</th>\n",
       "      <th>NetAmt</th>\n",
       "      <th>BaseValue</th>\n",
       "      <th>In Lakhs</th>\n",
       "      <th>REGION</th>\n",
       "      <th>ZONE</th>\n",
       "    </tr>\n",
       "  </thead>\n",
       "  <tbody>\n",
       "    <tr>\n",
       "      <th>0</th>\n",
       "      <td>MT0600032000290003200029</td>\n",
       "      <td>3200029</td>\n",
       "      <td>VENKATA SAI SALES CORPORATION</td>\n",
       "      <td>Key A/c Distributor</td>\n",
       "      <td>48.0000</td>\n",
       "      <td>RET0048</td>\n",
       "      <td>AVENUE SUPERMARTS LTD RAMANTPUR</td>\n",
       "      <td>AVENUE SUPER MARTS LTD</td>\n",
       "      <td>Modern Trade</td>\n",
       "      <td>BIL1900317</td>\n",
       "      <td>...</td>\n",
       "      <td>WK01</td>\n",
       "      <td>CS0340EGW01R</td>\n",
       "      <td>CHIK HFP EGG WHITE PROT SH 340ML 24P</td>\n",
       "      <td>CHIK SHAMPOO EGG Bottle</td>\n",
       "      <td>48</td>\n",
       "      <td>5,471.4240</td>\n",
       "      <td>5,723.5836</td>\n",
       "      <td>0.0572</td>\n",
       "      <td>Keys-Ac/s</td>\n",
       "      <td>Keys-Ac/s</td>\n",
       "    </tr>\n",
       "    <tr>\n",
       "      <th>1</th>\n",
       "      <td>MT0600032000290003200029</td>\n",
       "      <td>3200029</td>\n",
       "      <td>VENKATA SAI SALES CORPORATION</td>\n",
       "      <td>Key A/c Distributor</td>\n",
       "      <td>48.0000</td>\n",
       "      <td>RET0048</td>\n",
       "      <td>AVENUE SUPERMARTS LTD RAMANTPUR</td>\n",
       "      <td>AVENUE SUPER MARTS LTD</td>\n",
       "      <td>Modern Trade</td>\n",
       "      <td>BIL1900317</td>\n",
       "      <td>...</td>\n",
       "      <td>WK01</td>\n",
       "      <td>FCAM0050NAT03R</td>\n",
       "      <td>FAIREVER NAT FAIRNESS SOLN ND 50G 72PCS</td>\n",
       "      <td>FAIREVER  Natural</td>\n",
       "      <td>96</td>\n",
       "      <td>6,719.7700</td>\n",
       "      <td>5,980.8232</td>\n",
       "      <td>0.0598</td>\n",
       "      <td>Keys-Ac/s</td>\n",
       "      <td>Keys-Ac/s</td>\n",
       "    </tr>\n",
       "  </tbody>\n",
       "</table>\n",
       "<p>2 rows × 21 columns</p>\n",
       "</div>"
      ],
      "text/plain": [
       "                   Distcode  RS CODE                       DistName  \\\n",
       "0  MT0600032000290003200029  3200029  VENKATA SAI SALES CORPORATION   \n",
       "1  MT0600032000290003200029  3200029  VENKATA SAI SALES CORPORATION   \n",
       "\n",
       "              DistType   Rtrid  RtrCode                          RtrName  \\\n",
       "0  Key A/c Distributor 48.0000  RET0048  AVENUE SUPERMARTS LTD RAMANTPUR   \n",
       "1  Key A/c Distributor 48.0000  RET0048  AVENUE SUPERMARTS LTD RAMANTPUR   \n",
       "\n",
       "              RtrGroupCde       RET GRP      BillNo  ...  PERIOD  \\\n",
       "0  AVENUE SUPER MARTS LTD  Modern Trade  BIL1900317  ...    WK01   \n",
       "1  AVENUE SUPER MARTS LTD  Modern Trade  BIL1900317  ...    WK01   \n",
       "\n",
       "          PrdCode                                  PrdName  \\\n",
       "0    CS0340EGW01R     CHIK HFP EGG WHITE PROT SH 340ML 24P   \n",
       "1  FCAM0050NAT03R  FAIREVER NAT FAIRNESS SOLN ND 50G 72PCS   \n",
       "\n",
       "                 BRAND CAT TotQty     NetAmt  BaseValue  In Lakhs     REGION  \\\n",
       "0  CHIK SHAMPOO EGG Bottle     48 5,471.4240 5,723.5836    0.0572  Keys-Ac/s   \n",
       "1        FAIREVER  Natural     96 6,719.7700 5,980.8232    0.0598  Keys-Ac/s   \n",
       "\n",
       "        ZONE  \n",
       "0  Keys-Ac/s  \n",
       "1  Keys-Ac/s  \n",
       "\n",
       "[2 rows x 21 columns]"
      ]
     },
     "execution_count": 35,
     "metadata": {},
     "output_type": "execute_result"
    }
   ],
   "source": [
    "data9.head(2)"
   ]
  },
  {
   "cell_type": "code",
   "execution_count": 92,
   "metadata": {},
   "outputs": [
    {
     "data": {
      "text/plain": [
       "(1126587, 31)"
      ]
     },
     "execution_count": 92,
     "metadata": {},
     "output_type": "execute_result"
    }
   ],
   "source": [
    "data9.shape"
   ]
  },
  {
   "cell_type": "markdown",
   "metadata": {},
   "source": [
    "# Missing Prodcode in Product Hierarchy"
   ]
  },
  {
   "cell_type": "code",
   "execution_count": 90,
   "metadata": {},
   "outputs": [],
   "source": [
    "data9 = pd.merge(data9, product_hierarchy, left_on = 'PrdCode', right_on = 'PrdCode',how='left')\n",
    "missing_brand = data9[data9.Brand.isnull()][[\"PrdCode\",\"Brand\"]].drop_duplicates()\n",
    "len(missing_brand)\n",
    "if len(missing_brand) > 0:\n",
    "    missing_brand.to_csv(\"D:\\Analytics\\Marketing Report\\FY 19-20\\Master Data\\missing_brand.csv\",index= False)"
   ]
  },
  {
   "cell_type": "markdown",
   "metadata": {},
   "source": [
    "# Missing Category"
   ]
  },
  {
   "cell_type": "code",
   "execution_count": 91,
   "metadata": {},
   "outputs": [],
   "source": [
    "data9 = pd.merge(data9,static_category_lookup,how='left',left_on = \"RtrGroupCde\",right_on=\"Old_Category\") \n",
    "missing_category = data9[data9.Old_Category.isnull()][\"RtrGroupCde\"].to_frame().drop_duplicates()\n",
    "len(missing_category)\n",
    "if len(missing_category) > 0:\n",
    "    missing_brand.to_csv(\"D:\\Analytics\\Marketing Report\\FY 19-20\\Master Data\\missing_category.csv\",index= False)"
   ]
  },
  {
   "cell_type": "markdown",
   "metadata": {},
   "source": [
    "### Data Cleaning Function\n",
    "\n",
    "1. Changing the column names to lower case.    \n",
    "2. null_cols variable will show which column has the null values. Only taxable amount can have null values.\n",
    "3. Imputing the NA values in category as <b>\"Kirana\"</b>\n",
    "4. And Imputing the <b>rtrcode</b> and <b>rtrname</b> NA values as <b>\"Data not found\"</b>\n",
    "5. Merging the data with <b>Master JC  cycle</b> created and finding the JC value for that data.\n",
    "6. After Merging the columns used are\n",
    "                distcode\n",
    "                rtrcode\n",
    "                prdcode\n",
    "                cusname\n",
    "                cusgroname\n",
    "                billno\n",
    "                invdate\n",
    "                totqty\n",
    "                basevalue\n",
    "                div\n",
    "                Jc\n",
    "                Week\n",
    "        \n",
    "                \n",
    "\n",
    "        \n",
    "    "
   ]
  },
  {
   "cell_type": "code",
   "execution_count": null,
   "metadata": {},
   "outputs": [],
   "source": [
    "def datacleaning(dataframe):\n",
    "    data2               = dataframe\n",
    "    data2.columns       = map(str.lower, data2.columns)\n",
    "    data2               = data2[['statename', 'distcode', 'cusname', 'cusgroname', 'rtrid', 'rtrcode',\n",
    "                                   'rtrname', 'billno', 'invdate', 'brand', 'b.pack', 'prdcode', 'prdname',\n",
    "                                   'totqty', 'grossamt', 'taxableamt', 'netamt', 'basevalue', 'category',\n",
    "                                   'div']]\n",
    "    data2[\"rtrid\"]      = data2[\"rtrid\"].fillna(value = \"Data not found\") #New line\n",
    "    data2[\"taxableamt\"] = data2[\"taxableamt\"].fillna(value = 0)\n",
    "    data2[\"category\"]   = data2[\"category\"].fillna(value = \"Kirana\")\n",
    "    data2[[\"rtrcode\",\"rtrname\"]]    = data2[[\"rtrcode\",\"rtrname\"]].fillna(value = \"Data not found\")\n",
    "    null_data           = data2[data2.invdate.isnull()]\n",
    "    if len(null_data) > 0 :\n",
    "        print(\"Populate the null_data and append in the original data and proceed\")\n",
    "    null_cols           = data2.isnull().sum().to_frame().reset_index()\n",
    "#     null_cols[null_cols[0] != 0]\n",
    "    data2               = pd.merge(data2, jccycle, left_on = \"invdate\", right_on = \"Wk_Start_Date\")\n",
    "    data2.drop(columns  = [\"Wk_Start_Date\"] ,axis = 1,inplace = True)\n",
    "    data2[[\"rtrcode\",\"category\"]] = data2[[\"rtrcode\",\"category\"]].applymap(lambda s:(s.upper() if type(s)==str else s))\n",
    "    print (null_cols)\n",
    "    print(\" \\n If the above values are zero proceed to next step\")\n",
    "\n",
    "    return data2"
   ]
  },
  {
   "cell_type": "code",
   "execution_count": 99,
   "metadata": {},
   "outputs": [
    {
     "data": {
      "text/plain": [
       "Index(['distcode', 'rs code', 'distname', 'disttype', 'rtrid', 'rtrcode',\n",
       "       'rtrname', 'rtrgroupcde', 'ret grp', 'billno', 'invdate', 'period',\n",
       "       'prdcode', 'prdname_x', 'brand cat', 'totqty', 'netamt', 'basevalue',\n",
       "       'in lakhs', 'region', 'zone', 'prdname_y', 'brand', 'rb', 'channel',\n",
       "       'div', 'brdcat', 'brdpk', 'powersku', 'old_category', 'new_category'],\n",
       "      dtype='object')"
      ]
     },
     "execution_count": 99,
     "metadata": {},
     "output_type": "execute_result"
    }
   ],
   "source": [
    "data9.columns"
   ]
  },
  {
   "cell_type": "code",
   "execution_count": 96,
   "metadata": {},
   "outputs": [
    {
     "data": {
      "text/plain": [
       "array(['Keys-Ac/s', 'E-Comm', 'Delhi', 'UP', 'Maharashtra', 'Gujarat',\n",
       "       'BENGAL', 'JOB C', 'TN', 'KAR', 'AP', 'KERALA'], dtype=object)"
      ]
     },
     "execution_count": 96,
     "metadata": {},
     "output_type": "execute_result"
    }
   ],
   "source": [
    "data9.ZONE.unique()"
   ]
  },
  {
   "cell_type": "code",
   "execution_count": 97,
   "metadata": {},
   "outputs": [],
   "source": [
    "data9.columns = map(str.lower, data9.columns)"
   ]
  },
  {
   "cell_type": "code",
   "execution_count": 106,
   "metadata": {},
   "outputs": [
    {
     "data": {
      "text/plain": [
       "Series([], Name: rtrid, dtype: object)"
      ]
     },
     "execution_count": 106,
     "metadata": {},
     "output_type": "execute_result"
    }
   ],
   "source": [
    "data9[data9.rtrid.isnull()][\"rtrid\"]"
   ]
  },
  {
   "cell_type": "code",
   "execution_count": 111,
   "metadata": {},
   "outputs": [
    {
     "ename": "TypeError",
     "evalue": "Cannot perform 'rand_' with a dtyped [bool] array and scalar of type [bool]",
     "output_type": "error",
     "traceback": [
      "\u001b[1;31m---------------------------------------------------------------------------\u001b[0m",
      "\u001b[1;31mTypeError\u001b[0m                                 Traceback (most recent call last)",
      "\u001b[1;32m~\\Anaconda3\\lib\\site-packages\\pandas\\core\\ops\\array_ops.py\u001b[0m in \u001b[0;36mna_logical_op\u001b[1;34m(x, y, op)\u001b[0m\n\u001b[0;32m    273\u001b[0m         \u001b[1;31m#  (xint or xbool) and (yint or bool)\u001b[0m\u001b[1;33m\u001b[0m\u001b[1;33m\u001b[0m\u001b[1;33m\u001b[0m\u001b[0m\n\u001b[1;32m--> 274\u001b[1;33m         \u001b[0mresult\u001b[0m \u001b[1;33m=\u001b[0m \u001b[0mop\u001b[0m\u001b[1;33m(\u001b[0m\u001b[0mx\u001b[0m\u001b[1;33m,\u001b[0m \u001b[0my\u001b[0m\u001b[1;33m)\u001b[0m\u001b[1;33m\u001b[0m\u001b[1;33m\u001b[0m\u001b[0m\n\u001b[0m\u001b[0;32m    275\u001b[0m     \u001b[1;32mexcept\u001b[0m \u001b[0mTypeError\u001b[0m\u001b[1;33m:\u001b[0m\u001b[1;33m\u001b[0m\u001b[1;33m\u001b[0m\u001b[0m\n",
      "\u001b[1;32m~\\Anaconda3\\lib\\site-packages\\pandas\\core\\ops\\roperator.py\u001b[0m in \u001b[0;36mrand_\u001b[1;34m(left, right)\u001b[0m\n\u001b[0;32m     51\u001b[0m \u001b[1;32mdef\u001b[0m \u001b[0mrand_\u001b[0m\u001b[1;33m(\u001b[0m\u001b[0mleft\u001b[0m\u001b[1;33m,\u001b[0m \u001b[0mright\u001b[0m\u001b[1;33m)\u001b[0m\u001b[1;33m:\u001b[0m\u001b[1;33m\u001b[0m\u001b[1;33m\u001b[0m\u001b[0m\n\u001b[1;32m---> 52\u001b[1;33m     \u001b[1;32mreturn\u001b[0m \u001b[0moperator\u001b[0m\u001b[1;33m.\u001b[0m\u001b[0mand_\u001b[0m\u001b[1;33m(\u001b[0m\u001b[0mright\u001b[0m\u001b[1;33m,\u001b[0m \u001b[0mleft\u001b[0m\u001b[1;33m)\u001b[0m\u001b[1;33m\u001b[0m\u001b[1;33m\u001b[0m\u001b[0m\n\u001b[0m\u001b[0;32m     53\u001b[0m \u001b[1;33m\u001b[0m\u001b[0m\n",
      "\u001b[1;31mTypeError\u001b[0m: ufunc 'bitwise_and' not supported for the input types, and the inputs could not be safely coerced to any supported types according to the casting rule ''safe''",
      "\nDuring handling of the above exception, another exception occurred:\n",
      "\u001b[1;31mValueError\u001b[0m                                Traceback (most recent call last)",
      "\u001b[1;32m~\\Anaconda3\\lib\\site-packages\\pandas\\core\\ops\\array_ops.py\u001b[0m in \u001b[0;36mna_logical_op\u001b[1;34m(x, y, op)\u001b[0m\n\u001b[0;32m    287\u001b[0m             \u001b[1;32mtry\u001b[0m\u001b[1;33m:\u001b[0m\u001b[1;33m\u001b[0m\u001b[1;33m\u001b[0m\u001b[0m\n\u001b[1;32m--> 288\u001b[1;33m                 \u001b[0mresult\u001b[0m \u001b[1;33m=\u001b[0m \u001b[0mlibops\u001b[0m\u001b[1;33m.\u001b[0m\u001b[0mscalar_binop\u001b[0m\u001b[1;33m(\u001b[0m\u001b[0mx\u001b[0m\u001b[1;33m,\u001b[0m \u001b[0my\u001b[0m\u001b[1;33m,\u001b[0m \u001b[0mop\u001b[0m\u001b[1;33m)\u001b[0m\u001b[1;33m\u001b[0m\u001b[1;33m\u001b[0m\u001b[0m\n\u001b[0m\u001b[0;32m    289\u001b[0m             except (\n",
      "\u001b[1;32mpandas\\_libs\\ops.pyx\u001b[0m in \u001b[0;36mpandas._libs.ops.scalar_binop\u001b[1;34m()\u001b[0m\n",
      "\u001b[1;31mValueError\u001b[0m: Buffer dtype mismatch, expected 'Python object' but got 'bool'",
      "\nDuring handling of the above exception, another exception occurred:\n",
      "\u001b[1;31mTypeError\u001b[0m                                 Traceback (most recent call last)",
      "\u001b[1;32m<ipython-input-111-eeec6abb772e>\u001b[0m in \u001b[0;36m<module>\u001b[1;34m\u001b[0m\n\u001b[1;32m----> 1\u001b[1;33m \u001b[0mdata9\u001b[0m\u001b[1;33m[\u001b[0m\u001b[0mdata9\u001b[0m\u001b[1;33m.\u001b[0m\u001b[0mrtrid\u001b[0m \u001b[1;33m!=\u001b[0m \u001b[1;34m\"Data not found\"\u001b[0m \u001b[1;33m&\u001b[0m \u001b[0mdata9\u001b[0m\u001b[1;33m.\u001b[0m\u001b[0mrtrcode\u001b[0m\u001b[1;33m.\u001b[0m\u001b[0misnull\u001b[0m\u001b[1;33m(\u001b[0m\u001b[1;33m)\u001b[0m\u001b[1;33m]\u001b[0m\u001b[1;33m[\u001b[0m\u001b[1;33m[\u001b[0m\u001b[1;34m\"rtrid\"\u001b[0m\u001b[1;33m,\u001b[0m\u001b[1;34m\"rtrcode\"\u001b[0m\u001b[1;33m]\u001b[0m\u001b[1;33m]\u001b[0m\u001b[1;33m\u001b[0m\u001b[1;33m\u001b[0m\u001b[0m\n\u001b[0m",
      "\u001b[1;32m~\\Anaconda3\\lib\\site-packages\\pandas\\core\\ops\\common.py\u001b[0m in \u001b[0;36mnew_method\u001b[1;34m(self, other)\u001b[0m\n\u001b[0;32m     62\u001b[0m         \u001b[0mother\u001b[0m \u001b[1;33m=\u001b[0m \u001b[0mitem_from_zerodim\u001b[0m\u001b[1;33m(\u001b[0m\u001b[0mother\u001b[0m\u001b[1;33m)\u001b[0m\u001b[1;33m\u001b[0m\u001b[1;33m\u001b[0m\u001b[0m\n\u001b[0;32m     63\u001b[0m \u001b[1;33m\u001b[0m\u001b[0m\n\u001b[1;32m---> 64\u001b[1;33m         \u001b[1;32mreturn\u001b[0m \u001b[0mmethod\u001b[0m\u001b[1;33m(\u001b[0m\u001b[0mself\u001b[0m\u001b[1;33m,\u001b[0m \u001b[0mother\u001b[0m\u001b[1;33m)\u001b[0m\u001b[1;33m\u001b[0m\u001b[1;33m\u001b[0m\u001b[0m\n\u001b[0m\u001b[0;32m     65\u001b[0m \u001b[1;33m\u001b[0m\u001b[0m\n\u001b[0;32m     66\u001b[0m     \u001b[1;32mreturn\u001b[0m \u001b[0mnew_method\u001b[0m\u001b[1;33m\u001b[0m\u001b[1;33m\u001b[0m\u001b[0m\n",
      "\u001b[1;32m~\\Anaconda3\\lib\\site-packages\\pandas\\core\\ops\\__init__.py\u001b[0m in \u001b[0;36mwrapper\u001b[1;34m(self, other)\u001b[0m\n\u001b[0;32m    547\u001b[0m         \u001b[0mrvalues\u001b[0m \u001b[1;33m=\u001b[0m \u001b[0mextract_array\u001b[0m\u001b[1;33m(\u001b[0m\u001b[0mother\u001b[0m\u001b[1;33m,\u001b[0m \u001b[0mextract_numpy\u001b[0m\u001b[1;33m=\u001b[0m\u001b[1;32mTrue\u001b[0m\u001b[1;33m)\u001b[0m\u001b[1;33m\u001b[0m\u001b[1;33m\u001b[0m\u001b[0m\n\u001b[0;32m    548\u001b[0m \u001b[1;33m\u001b[0m\u001b[0m\n\u001b[1;32m--> 549\u001b[1;33m         \u001b[0mres_values\u001b[0m \u001b[1;33m=\u001b[0m \u001b[0mlogical_op\u001b[0m\u001b[1;33m(\u001b[0m\u001b[0mlvalues\u001b[0m\u001b[1;33m,\u001b[0m \u001b[0mrvalues\u001b[0m\u001b[1;33m,\u001b[0m \u001b[0mop\u001b[0m\u001b[1;33m)\u001b[0m\u001b[1;33m\u001b[0m\u001b[1;33m\u001b[0m\u001b[0m\n\u001b[0m\u001b[0;32m    550\u001b[0m         \u001b[1;32mreturn\u001b[0m \u001b[0m_construct_result\u001b[0m\u001b[1;33m(\u001b[0m\u001b[0mself\u001b[0m\u001b[1;33m,\u001b[0m \u001b[0mres_values\u001b[0m\u001b[1;33m,\u001b[0m \u001b[0mindex\u001b[0m\u001b[1;33m=\u001b[0m\u001b[0mself\u001b[0m\u001b[1;33m.\u001b[0m\u001b[0mindex\u001b[0m\u001b[1;33m,\u001b[0m \u001b[0mname\u001b[0m\u001b[1;33m=\u001b[0m\u001b[0mres_name\u001b[0m\u001b[1;33m)\u001b[0m\u001b[1;33m\u001b[0m\u001b[1;33m\u001b[0m\u001b[0m\n\u001b[0;32m    551\u001b[0m \u001b[1;33m\u001b[0m\u001b[0m\n",
      "\u001b[1;32m~\\Anaconda3\\lib\\site-packages\\pandas\\core\\ops\\array_ops.py\u001b[0m in \u001b[0;36mlogical_op\u001b[1;34m(left, right, op)\u001b[0m\n\u001b[0;32m    364\u001b[0m         \u001b[0mfiller\u001b[0m \u001b[1;33m=\u001b[0m \u001b[0mfill_int\u001b[0m \u001b[1;32mif\u001b[0m \u001b[0mis_self_int_dtype\u001b[0m \u001b[1;32mand\u001b[0m \u001b[0mis_other_int_dtype\u001b[0m \u001b[1;32melse\u001b[0m \u001b[0mfill_bool\u001b[0m\u001b[1;33m\u001b[0m\u001b[1;33m\u001b[0m\u001b[0m\n\u001b[0;32m    365\u001b[0m \u001b[1;33m\u001b[0m\u001b[0m\n\u001b[1;32m--> 366\u001b[1;33m         \u001b[0mres_values\u001b[0m \u001b[1;33m=\u001b[0m \u001b[0mna_logical_op\u001b[0m\u001b[1;33m(\u001b[0m\u001b[0mlvalues\u001b[0m\u001b[1;33m,\u001b[0m \u001b[0mrvalues\u001b[0m\u001b[1;33m,\u001b[0m \u001b[0mop\u001b[0m\u001b[1;33m)\u001b[0m\u001b[1;33m\u001b[0m\u001b[1;33m\u001b[0m\u001b[0m\n\u001b[0m\u001b[0;32m    367\u001b[0m         \u001b[0mres_values\u001b[0m \u001b[1;33m=\u001b[0m \u001b[0mfiller\u001b[0m\u001b[1;33m(\u001b[0m\u001b[0mres_values\u001b[0m\u001b[1;33m)\u001b[0m  \u001b[1;31m# type: ignore\u001b[0m\u001b[1;33m\u001b[0m\u001b[1;33m\u001b[0m\u001b[0m\n\u001b[0;32m    368\u001b[0m \u001b[1;33m\u001b[0m\u001b[0m\n",
      "\u001b[1;32m~\\Anaconda3\\lib\\site-packages\\pandas\\core\\ops\\array_ops.py\u001b[0m in \u001b[0;36mna_logical_op\u001b[1;34m(x, y, op)\u001b[0m\n\u001b[0;32m    296\u001b[0m                 \u001b[0mtyp\u001b[0m \u001b[1;33m=\u001b[0m \u001b[0mtype\u001b[0m\u001b[1;33m(\u001b[0m\u001b[0my\u001b[0m\u001b[1;33m)\u001b[0m\u001b[1;33m.\u001b[0m\u001b[0m__name__\u001b[0m\u001b[1;33m\u001b[0m\u001b[1;33m\u001b[0m\u001b[0m\n\u001b[0;32m    297\u001b[0m                 raise TypeError(\n\u001b[1;32m--> 298\u001b[1;33m                     \u001b[1;34mf\"Cannot perform '{op.__name__}' with a dtyped [{x.dtype}] array \"\u001b[0m\u001b[1;33m\u001b[0m\u001b[1;33m\u001b[0m\u001b[0m\n\u001b[0m\u001b[0;32m    299\u001b[0m                     \u001b[1;34mf\"and scalar of type [{typ}]\"\u001b[0m\u001b[1;33m\u001b[0m\u001b[1;33m\u001b[0m\u001b[0m\n\u001b[0;32m    300\u001b[0m                 )\n",
      "\u001b[1;31mTypeError\u001b[0m: Cannot perform 'rand_' with a dtyped [bool] array and scalar of type [bool]"
     ]
    }
   ],
   "source": [
    "data9[data9.rtrid != \"Data not found\" & data9.rtrcode.isnull()][[\"rtrid\",\"rtrcode\"]]"
   ]
  },
  {
   "cell_type": "code",
   "execution_count": 30,
   "metadata": {},
   "outputs": [],
   "source": []
  },
  {
   "cell_type": "code",
   "execution_count": 15,
   "metadata": {},
   "outputs": [],
   "source": [
    "data9 = data9.rename(columns = {\"distname\" : \"cusname\",\n",
    "                              \"disttype\" : \"cusgroname\",\n",
    "                              \"rtrgroupcde\" : \"category\",\n",
    "                               \"brdpk\" : \"b.pack\"\n",
    "                               })"
   ]
  },
  {
   "cell_type": "code",
   "execution_count": 38,
   "metadata": {},
   "outputs": [
    {
     "data": {
      "text/plain": [
       "Index(['Distcode', 'RS CODE', 'DistName', 'DistType', 'Rtrid', 'RtrCode',\n",
       "       'RtrName', 'RtrGroupCde', 'RET GRP', 'BillNo', 'InvDate', 'PERIOD',\n",
       "       'PrdCode', 'PrdName_x', 'BRAND CAT', 'TotQty', 'NetAmt', 'BaseValue',\n",
       "       'In Lakhs', 'REGION', 'ZONE', 'PrdName_y', 'Brand', 'RB', 'Channel',\n",
       "       'Div', 'BrdCat', 'BrdPk', 'PowerSKU'],\n",
       "      dtype='object')"
      ]
     },
     "execution_count": 38,
     "metadata": {},
     "output_type": "execute_result"
    }
   ],
   "source": [
    "data9.columns"
   ]
  },
  {
   "cell_type": "code",
   "execution_count": 29,
   "metadata": {},
   "outputs": [
    {
     "data": {
      "text/plain": [
       "Index(['PrdCode', 'PrdName', 'Brand', 'RB', 'Channel', 'Div', 'BrdCat',\n",
       "       'BrdPk', 'PowerSKU'],\n",
       "      dtype='object')"
      ]
     },
     "execution_count": 29,
     "metadata": {},
     "output_type": "execute_result"
    }
   ],
   "source": [
    "product_hierarchy.columns"
   ]
  },
  {
   "cell_type": "code",
   "execution_count": null,
   "metadata": {},
   "outputs": [],
   "source": [
    "data = data.rename(columns = {\"brdpk\" : \"b.pack\",\n",
    "                              \"disttype\" : \"cusgroname\",\n",
    "                              \"rtrgroupcde\" : \"category\"})"
   ]
  },
  {
   "cell_type": "code",
   "execution_count": 17,
   "metadata": {},
   "outputs": [
    {
     "ename": "KeyError",
     "evalue": "\"['div', 'taxableamt', 'grossamt', 'brand', 'statename', 'b.pack'] not in index\"",
     "output_type": "error",
     "traceback": [
      "\u001b[1;31m---------------------------------------------------------------------------\u001b[0m",
      "\u001b[1;31mKeyError\u001b[0m                                  Traceback (most recent call last)",
      "\u001b[1;32m<ipython-input-17-82015b49fa83>\u001b[0m in \u001b[0;36m<module>\u001b[1;34m\u001b[0m\n\u001b[0;32m      2\u001b[0m        \u001b[1;34m'rtrname'\u001b[0m\u001b[1;33m,\u001b[0m \u001b[1;34m'billno'\u001b[0m\u001b[1;33m,\u001b[0m \u001b[1;34m'invdate'\u001b[0m\u001b[1;33m,\u001b[0m \u001b[1;34m'brand'\u001b[0m\u001b[1;33m,\u001b[0m \u001b[1;34m'b.pack'\u001b[0m\u001b[1;33m,\u001b[0m \u001b[1;34m'prdcode'\u001b[0m\u001b[1;33m,\u001b[0m \u001b[1;34m'prdname'\u001b[0m\u001b[1;33m,\u001b[0m\u001b[1;33m\u001b[0m\u001b[1;33m\u001b[0m\u001b[0m\n\u001b[0;32m      3\u001b[0m        \u001b[1;34m'totqty'\u001b[0m\u001b[1;33m,\u001b[0m \u001b[1;34m'grossamt'\u001b[0m\u001b[1;33m,\u001b[0m \u001b[1;34m'taxableamt'\u001b[0m\u001b[1;33m,\u001b[0m \u001b[1;34m'netamt'\u001b[0m\u001b[1;33m,\u001b[0m \u001b[1;34m'basevalue'\u001b[0m\u001b[1;33m,\u001b[0m \u001b[1;34m'category'\u001b[0m\u001b[1;33m,\u001b[0m\u001b[1;33m\u001b[0m\u001b[1;33m\u001b[0m\u001b[0m\n\u001b[1;32m----> 4\u001b[1;33m        'div']]\n\u001b[0m",
      "\u001b[1;32m~\\Anaconda3\\lib\\site-packages\\pandas\\core\\frame.py\u001b[0m in \u001b[0;36m__getitem__\u001b[1;34m(self, key)\u001b[0m\n\u001b[0;32m   2804\u001b[0m             \u001b[1;32mif\u001b[0m \u001b[0mis_iterator\u001b[0m\u001b[1;33m(\u001b[0m\u001b[0mkey\u001b[0m\u001b[1;33m)\u001b[0m\u001b[1;33m:\u001b[0m\u001b[1;33m\u001b[0m\u001b[1;33m\u001b[0m\u001b[0m\n\u001b[0;32m   2805\u001b[0m                 \u001b[0mkey\u001b[0m \u001b[1;33m=\u001b[0m \u001b[0mlist\u001b[0m\u001b[1;33m(\u001b[0m\u001b[0mkey\u001b[0m\u001b[1;33m)\u001b[0m\u001b[1;33m\u001b[0m\u001b[1;33m\u001b[0m\u001b[0m\n\u001b[1;32m-> 2806\u001b[1;33m             \u001b[0mindexer\u001b[0m \u001b[1;33m=\u001b[0m \u001b[0mself\u001b[0m\u001b[1;33m.\u001b[0m\u001b[0mloc\u001b[0m\u001b[1;33m.\u001b[0m\u001b[0m_get_listlike_indexer\u001b[0m\u001b[1;33m(\u001b[0m\u001b[0mkey\u001b[0m\u001b[1;33m,\u001b[0m \u001b[0maxis\u001b[0m\u001b[1;33m=\u001b[0m\u001b[1;36m1\u001b[0m\u001b[1;33m,\u001b[0m \u001b[0mraise_missing\u001b[0m\u001b[1;33m=\u001b[0m\u001b[1;32mTrue\u001b[0m\u001b[1;33m)\u001b[0m\u001b[1;33m[\u001b[0m\u001b[1;36m1\u001b[0m\u001b[1;33m]\u001b[0m\u001b[1;33m\u001b[0m\u001b[1;33m\u001b[0m\u001b[0m\n\u001b[0m\u001b[0;32m   2807\u001b[0m \u001b[1;33m\u001b[0m\u001b[0m\n\u001b[0;32m   2808\u001b[0m         \u001b[1;31m# take() does not accept boolean indexers\u001b[0m\u001b[1;33m\u001b[0m\u001b[1;33m\u001b[0m\u001b[1;33m\u001b[0m\u001b[0m\n",
      "\u001b[1;32m~\\Anaconda3\\lib\\site-packages\\pandas\\core\\indexing.py\u001b[0m in \u001b[0;36m_get_listlike_indexer\u001b[1;34m(self, key, axis, raise_missing)\u001b[0m\n\u001b[0;32m   1550\u001b[0m \u001b[1;33m\u001b[0m\u001b[0m\n\u001b[0;32m   1551\u001b[0m         self._validate_read_indexer(\n\u001b[1;32m-> 1552\u001b[1;33m             \u001b[0mkeyarr\u001b[0m\u001b[1;33m,\u001b[0m \u001b[0mindexer\u001b[0m\u001b[1;33m,\u001b[0m \u001b[0mo\u001b[0m\u001b[1;33m.\u001b[0m\u001b[0m_get_axis_number\u001b[0m\u001b[1;33m(\u001b[0m\u001b[0maxis\u001b[0m\u001b[1;33m)\u001b[0m\u001b[1;33m,\u001b[0m \u001b[0mraise_missing\u001b[0m\u001b[1;33m=\u001b[0m\u001b[0mraise_missing\u001b[0m\u001b[1;33m\u001b[0m\u001b[1;33m\u001b[0m\u001b[0m\n\u001b[0m\u001b[0;32m   1553\u001b[0m         )\n\u001b[0;32m   1554\u001b[0m         \u001b[1;32mreturn\u001b[0m \u001b[0mkeyarr\u001b[0m\u001b[1;33m,\u001b[0m \u001b[0mindexer\u001b[0m\u001b[1;33m\u001b[0m\u001b[1;33m\u001b[0m\u001b[0m\n",
      "\u001b[1;32m~\\Anaconda3\\lib\\site-packages\\pandas\\core\\indexing.py\u001b[0m in \u001b[0;36m_validate_read_indexer\u001b[1;34m(self, key, indexer, axis, raise_missing)\u001b[0m\n\u001b[0;32m   1643\u001b[0m             \u001b[1;32mif\u001b[0m \u001b[1;32mnot\u001b[0m \u001b[1;33m(\u001b[0m\u001b[0mself\u001b[0m\u001b[1;33m.\u001b[0m\u001b[0mname\u001b[0m \u001b[1;33m==\u001b[0m \u001b[1;34m\"loc\"\u001b[0m \u001b[1;32mand\u001b[0m \u001b[1;32mnot\u001b[0m \u001b[0mraise_missing\u001b[0m\u001b[1;33m)\u001b[0m\u001b[1;33m:\u001b[0m\u001b[1;33m\u001b[0m\u001b[1;33m\u001b[0m\u001b[0m\n\u001b[0;32m   1644\u001b[0m                 \u001b[0mnot_found\u001b[0m \u001b[1;33m=\u001b[0m \u001b[0mlist\u001b[0m\u001b[1;33m(\u001b[0m\u001b[0mset\u001b[0m\u001b[1;33m(\u001b[0m\u001b[0mkey\u001b[0m\u001b[1;33m)\u001b[0m \u001b[1;33m-\u001b[0m \u001b[0mset\u001b[0m\u001b[1;33m(\u001b[0m\u001b[0max\u001b[0m\u001b[1;33m)\u001b[0m\u001b[1;33m)\u001b[0m\u001b[1;33m\u001b[0m\u001b[1;33m\u001b[0m\u001b[0m\n\u001b[1;32m-> 1645\u001b[1;33m                 \u001b[1;32mraise\u001b[0m \u001b[0mKeyError\u001b[0m\u001b[1;33m(\u001b[0m\u001b[1;34mf\"{not_found} not in index\"\u001b[0m\u001b[1;33m)\u001b[0m\u001b[1;33m\u001b[0m\u001b[1;33m\u001b[0m\u001b[0m\n\u001b[0m\u001b[0;32m   1646\u001b[0m \u001b[1;33m\u001b[0m\u001b[0m\n\u001b[0;32m   1647\u001b[0m             \u001b[1;31m# we skip the warning on Categorical/Interval\u001b[0m\u001b[1;33m\u001b[0m\u001b[1;33m\u001b[0m\u001b[1;33m\u001b[0m\u001b[0m\n",
      "\u001b[1;31mKeyError\u001b[0m: \"['div', 'taxableamt', 'grossamt', 'brand', 'statename', 'b.pack'] not in index\""
     ]
    }
   ],
   "source": [
    "data9 = data9[['statename', 'distcode', 'cusname', 'cusgroname', 'rtrid', 'rtrcode',\n",
    "       'rtrname', 'billno', 'invdate', 'brand', 'b.pack', 'prdcode', 'prdname',\n",
    "       'totqty', 'grossamt', 'taxableamt', 'netamt', 'basevalue', 'category',\n",
    "       'div']]"
   ]
  },
  {
   "cell_type": "code",
   "execution_count": null,
   "metadata": {},
   "outputs": [],
   "source": []
  }
 ],
 "metadata": {
  "kernelspec": {
   "display_name": "Python 3",
   "language": "python",
   "name": "python3"
  },
  "language_info": {
   "codemirror_mode": {
    "name": "ipython",
    "version": 3
   },
   "file_extension": ".py",
   "mimetype": "text/x-python",
   "name": "python",
   "nbconvert_exporter": "python",
   "pygments_lexer": "ipython3",
   "version": "3.7.5"
  }
 },
 "nbformat": 4,
 "nbformat_minor": 4
}
